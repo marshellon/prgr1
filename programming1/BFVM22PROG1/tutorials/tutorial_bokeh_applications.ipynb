{
 "cells": [
  {
   "cell_type": "markdown",
   "metadata": {},
   "source": [
    "# Bokeh applications\n",
    "\n",
    "Previously we looked into the building blocks of an application such as plots and widgets. **CREATING PLOTS AND WIDGETS** is a concept you should be familiar with. \n",
    "\n",
    "The first step in an application is to build plots, tools and widgets. The next step is to **DEFINE CALLBACK FUNCTION**. The callback function is a function that tells the application how to respond when a user interacts with your application. The callback function is the interface between the widgets and the plot. It tells how to change the plot. \n",
    "\n",
    "The final step is **CREATE LAYOUTS** in order to present the plots. This is a concept you should be familiar with as well. \n",
    "\n",
    "Combining the three steps will render in a Bokeh application. \n",
    "\n",
    "\n",
    "See:\n",
    "https://docs.bokeh.org/en/latest/docs/user_guide/interaction/callbacks.html#customjs-for-widgets"
   ]
  },
  {
   "cell_type": "code",
   "execution_count": 1,
   "metadata": {},
   "outputs": [],
   "source": [
    "#basic app outline\n",
    "from bokeh.io import curdoc\n",
    "# Create plots and widgets\n",
    "# Add callbacks\n",
    "# Arrange plots and widgets in layouts\n",
    "curdoc().add_root(layout)"
   ]
  },
  {
   "cell_type": "markdown",
   "metadata": {},
   "source": [
    "Whenever we create an application, bokeh creates a blank document or a canvas for that application. This application is known as `curdoc` abbreviation for current document. We can add plot, widgets and other elements to this blank document with the `add_root` method. "
   ]
  },
  {
   "cell_type": "markdown",
   "metadata": {},
   "source": [
    "## Study Case: interactive plotting distribution of data\n",
    "Let us look at an example. A plot with a select menu that changes interactively the distribution of the data and the plot showing the data"
   ]
  },
  {
   "cell_type": "markdown",
   "metadata": {},
   "source": [
    "## Create plots and widget"
   ]
  },
  {
   "cell_type": "code",
   "execution_count": 2,
   "metadata": {},
   "outputs": [],
   "source": [
    "#import\n",
    "from bokeh.models import Select, ColumnDataSource\n",
    "from bokeh.plotting import figure\n",
    "from numpy.random import random, normal, lognormal\n",
    "\n",
    "#create data\n",
    "source = ColumnDataSource(data = {'x':random(500), 'y':random(500)})\n",
    "\n",
    "#create plot\n",
    "p =figure()\n",
    "p.circle(x='x', y='y', source=source)\n",
    "\n",
    "#create widget\n",
    "menu = Select(options=['uniform', 'normal', 'lognormal'], value='uniform',\n",
    "       title = 'select distribution of your choice')"
   ]
  },
  {
   "cell_type": "markdown",
   "metadata": {},
   "source": [
    "## Callback: the interactivity layer"
   ]
  },
  {
   "cell_type": "markdown",
   "metadata": {},
   "source": [
    "The fundamental purpose of a bokeh application is to make use of the interactivity. We can combine plot and widget with a callback function. In the following example the callback function is set to `random` if the user selects a *uniform* distribution, the function is set to `normal` if the user selects a *normal* distribution, the function is set to `lognormal` if the user selects a *lognormal* distribution. "
   ]
  },
  {
   "cell_type": "code",
   "execution_count": 3,
   "metadata": {},
   "outputs": [],
   "source": [
    "def callback(attr, old, new):\n",
    "    if menu.value == 'uniform': f = random\n",
    "    elif menu.value == 'normal': f = normal\n",
    "    else: f = lognormal\n",
    "    source.data={'x': f(size=500), 'y': f(size=500)}\n"
   ]
  },
  {
   "cell_type": "markdown",
   "metadata": {},
   "source": [
    "Next we need to call the callback function if the widget is triggered. In the example below we use the `.on_change()` method of the widget. When the widget is triggered it calls the callback function passing the value "
   ]
  },
  {
   "cell_type": "code",
   "execution_count": 4,
   "metadata": {},
   "outputs": [],
   "source": [
    "menu.on_change('value', callback)"
   ]
  },
  {
   "cell_type": "markdown",
   "metadata": {},
   "source": [
    "## Arrange plots and widgets in layouts\n",
    "Finally we create the layout. "
   ]
  },
  {
   "cell_type": "code",
   "execution_count": 5,
   "metadata": {},
   "outputs": [],
   "source": [
    "# Arrange plots and widgets in layouts\n",
    "from bokeh.io import curdoc\n",
    "from bokeh.layouts import column \n",
    "layout = column(menu, p)\n",
    "curdoc().add_root(layout)"
   ]
  },
  {
   "cell_type": "markdown",
   "metadata": {},
   "source": [
    "## Launch application "
   ]
  },
  {
   "cell_type": "markdown",
   "metadata": {},
   "source": [
    "In order to run the application we need to put all the code in python script. The preceeding code was saved into a file called `demo_bokeh.py`. In order to run the application we can open the terminal and type the command \n",
    "\n",
    "    bokeh serve --show demo_boke.py\n",
    "    \n",
    "This shows initially the following"
   ]
  },
  {
   "cell_type": "markdown",
   "metadata": {},
   "source": [
    "<img src=\"images/distributions.png\"/>"
   ]
  }
 ],
 "metadata": {
  "kernelspec": {
   "display_name": "Python 3",
   "language": "python",
   "name": "python3"
  },
  "language_info": {
   "codemirror_mode": {
    "name": "ipython",
    "version": 3
   },
   "file_extension": ".py",
   "mimetype": "text/x-python",
   "name": "python",
   "nbconvert_exporter": "python",
   "pygments_lexer": "ipython3",
   "version": "3.8.1"
  }
 },
 "nbformat": 4,
 "nbformat_minor": 4
}
