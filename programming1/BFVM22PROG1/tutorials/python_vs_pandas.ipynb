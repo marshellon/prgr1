{
 "cells": [
  {
   "cell_type": "markdown",
   "id": "heavy-heritage",
   "metadata": {},
   "source": [
    "# Python versus pandas\n",
    "\n",
    "In previous courses you learned to process files line by line. You learned to extract information line based. A common way to extract information is using a for loop. In the following example a file named corpus is processed. The file contains *4 milion processing steps of recipes*. In the `python` way example the file is read line by line and the lines containing the word 'tomato' are stored in an array together with the index of the line. In the `pandas` way the file is not read line by line but processed vectorized. This is an important concept of pandas. \n",
    "\n",
    "The first line of the file is the header the next three lines are the first three records of the file. \n",
    "\n",
    "    ,step\n",
    "    0,preheat oven f\n",
    "    1,butter oil inch baking dish\n",
    "    2,cook penne minute package direction\n",
    "    \n"
   ]
  },
  {
   "cell_type": "code",
   "execution_count": 1,
   "id": "political-lawyer",
   "metadata": {},
   "outputs": [],
   "source": [
    "import pandas as pd\n",
    "import warnings\n",
    "warnings.simplefilter(action='ignore', category=FutureWarning)"
   ]
  },
  {
   "cell_type": "markdown",
   "id": "solid-viewer",
   "metadata": {},
   "source": [
    "## The python way\n",
    "\n",
    "Python for-loops are processed—One instruction, per one data element, per one moment in time, in order to produce one result. The advantage is that it is flexible — you may implement any operation on your data. The drawback is that you need many lines of code and it is not optimized for memory. "
   ]
  },
  {
   "cell_type": "code",
   "execution_count": 2,
   "id": "directed-wright",
   "metadata": {
    "scrolled": true
   },
   "outputs": [
    {
     "name": "stdout",
     "output_type": "stream",
     "text": [
      "32 \t add tomato food processor pinch salt puree smooth\n",
      "33 \t combine onion bell pepper cucumber tomato puree large bowl\n",
      "59 \t toss greens pound cup carrot grate tomato halve green onion slice large sized bowl\n",
      "79 \t add tomato sauce hamburger\n",
      "103 \t add saute onion dice tomato hot red pepper powder stir minute add cup water leave boil\n"
     ]
    }
   ],
   "source": [
    "x = [] #create an empty list\n",
    "\n",
    "#process the file\n",
    "with open('data/corpus') as f:\n",
    "    for line in f:\n",
    "        index, step = line.split(',')\n",
    "        if 'tomato' in step:\n",
    "            x.append(f'{index} \\t {step}') #tab seperated\n",
    "\n",
    "#print first five lines of the tomato processing step list\n",
    "for i in range(5):\n",
    "    print(x[i], end='')"
   ]
  },
  {
   "cell_type": "markdown",
   "id": "light-colony",
   "metadata": {},
   "source": [
    "## Vectorization\n",
    "\n",
    "Based on the definition given by the official Numpy documentation, vectorization is defined as being “able to delegate the task of performing mathematical operations on the array’s contents to optimized, compiled C code.” Instead of looping through rows, columns or elements, this allows us to apply one set of instructions on multiple elements at the same time.\n"
   ]
  },
  {
   "cell_type": "markdown",
   "id": "hybrid-bubble",
   "metadata": {},
   "source": [
    "## The Pandas way\n",
    "A stated above the vectorized implementation is a structure that supports instruction processing per any number of data elements per one moment in time, in order to produce multiple results. The instruction f[f['clean'].str.contains('tomato')] is an example of such an instruction. It extracts all the sentences with the word tomato for all lines in the file f at once. In data processing vectorized instructions are favored over element wise instructions, since vectorized implementations allow paralel CPU usage."
   ]
  },
  {
   "cell_type": "code",
   "execution_count": 3,
   "id": "figured-fever",
   "metadata": {},
   "outputs": [
    {
     "name": "stdout",
     "output_type": "stream",
     "text": [
      "                                                  step\n",
      "32   add tomato food processor pinch salt puree smooth\n",
      "33   combine onion bell pepper cucumber tomato pure...\n",
      "59   toss greens pound cup carrot grate tomato halv...\n",
      "79                          add tomato sauce hamburger\n",
      "103  add saute onion dice tomato hot red pepper pow...\n"
     ]
    }
   ],
   "source": [
    "f = pd.read_csv('data/corpus', index_col=0) #read file use the first column as index\n",
    "x = f[f['step'].str.contains('tomato')]\n",
    "print(x.head())"
   ]
  },
  {
   "cell_type": "markdown",
   "id": "paperback-variance",
   "metadata": {},
   "source": [
    "## Conclusion\n",
    "\n",
    "In datapocessing we prefer to stick with vectorized operations on pandas dataframes or numpy arrays. We should try to avoid for loops or iterations on rows as much as possible. "
   ]
  }
 ],
 "metadata": {
  "kernelspec": {
   "display_name": "dsls",
   "language": "python",
   "name": "dsls"
  },
  "language_info": {
   "codemirror_mode": {
    "name": "ipython",
    "version": 3
   },
   "file_extension": ".py",
   "mimetype": "text/x-python",
   "name": "python",
   "nbconvert_exporter": "python",
   "pygments_lexer": "ipython3",
   "version": "3.8.2"
  }
 },
 "nbformat": 4,
 "nbformat_minor": 5
}
