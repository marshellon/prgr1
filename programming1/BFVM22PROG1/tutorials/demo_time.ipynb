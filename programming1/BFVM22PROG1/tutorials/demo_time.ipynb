{
 "cells": [
  {
   "cell_type": "code",
   "execution_count": 1,
   "id": "painful-equilibrium",
   "metadata": {},
   "outputs": [],
   "source": [
    "import pandas as pd\n",
    "import numpy as np"
   ]
  },
  {
   "cell_type": "code",
   "execution_count": 2,
   "id": "talented-leeds",
   "metadata": {},
   "outputs": [],
   "source": [
    "pd.date_range?"
   ]
  },
  {
   "cell_type": "code",
   "execution_count": 3,
   "id": "blessed-basin",
   "metadata": {},
   "outputs": [
    {
     "data": {
      "text/plain": [
       "0   2021-09-01\n",
       "1   2021-09-02\n",
       "2   2021-09-03\n",
       "dtype: datetime64[ns]"
      ]
     },
     "execution_count": 3,
     "metadata": {},
     "output_type": "execute_result"
    }
   ],
   "source": [
    "pd.Series(pd.date_range('2021-09-01', periods=3, freq='D')) #days"
   ]
  },
  {
   "cell_type": "code",
   "execution_count": 4,
   "id": "virtual-dinner",
   "metadata": {},
   "outputs": [
    {
     "data": {
      "text/plain": [
       "0   2021-09-01 00:00:00\n",
       "1   2021-09-01 01:00:00\n",
       "2   2021-09-01 02:00:00\n",
       "dtype: datetime64[ns]"
      ]
     },
     "execution_count": 4,
     "metadata": {},
     "output_type": "execute_result"
    }
   ],
   "source": [
    "pd.Series(pd.date_range('2021-09-01', periods=3, freq='H')) #hours"
   ]
  },
  {
   "cell_type": "code",
   "execution_count": 5,
   "id": "ambient-domestic",
   "metadata": {},
   "outputs": [
    {
     "data": {
      "text/plain": [
       "0     2021-09-01 00:00:00\n",
       "1     2021-09-01 01:00:00\n",
       "2     2021-09-01 02:00:00\n",
       "3     2021-09-01 03:00:00\n",
       "4     2021-09-01 04:00:00\n",
       "              ...        \n",
       "295   2021-09-13 07:00:00\n",
       "296   2021-09-13 08:00:00\n",
       "297   2021-09-13 09:00:00\n",
       "298   2021-09-13 10:00:00\n",
       "299   2021-09-13 11:00:00\n",
       "Length: 300, dtype: datetime64[ns]"
      ]
     },
     "execution_count": 5,
     "metadata": {},
     "output_type": "execute_result"
    }
   ],
   "source": [
    "pd.Series(pd.date_range('2021-09-01', periods=300, freq='H'))"
   ]
  },
  {
   "cell_type": "code",
   "execution_count": 6,
   "id": "short-isolation",
   "metadata": {},
   "outputs": [
    {
     "data": {
      "text/plain": [
       "12.5"
      ]
     },
     "execution_count": 6,
     "metadata": {},
     "output_type": "execute_result"
    }
   ],
   "source": [
    "300/24"
   ]
  },
  {
   "cell_type": "code",
   "execution_count": 7,
   "id": "graduate-screening",
   "metadata": {},
   "outputs": [
    {
     "data": {
      "text/plain": [
       "0   2021-09-01 00:00:00.000000000\n",
       "1   2021-09-01 00:00:00.000000001\n",
       "2   2021-09-01 00:00:00.000000002\n",
       "dtype: datetime64[ns]"
      ]
     },
     "execution_count": 7,
     "metadata": {},
     "output_type": "execute_result"
    }
   ],
   "source": [
    "pd.Series(pd.date_range('2021-09-01', periods=3, freq='N'))"
   ]
  },
  {
   "cell_type": "code",
   "execution_count": 8,
   "id": "rolled-findings",
   "metadata": {},
   "outputs": [
    {
     "data": {
      "text/plain": [
       "0   2021-01-29\n",
       "1   2021-02-26\n",
       "2   2021-03-31\n",
       "dtype: datetime64[ns]"
      ]
     },
     "execution_count": 8,
     "metadata": {},
     "output_type": "execute_result"
    }
   ],
   "source": [
    "pd.Series(pd.date_range('2021-01-01', periods=3, freq='BM'))"
   ]
  },
  {
   "cell_type": "code",
   "execution_count": 9,
   "id": "infectious-crawford",
   "metadata": {},
   "outputs": [
    {
     "data": {
      "text/plain": [
       "0   2021-01-01 00:00:00\n",
       "1   2021-01-01 02:00:00\n",
       "2   2021-01-01 04:00:00\n",
       "dtype: datetime64[ns]"
      ]
     },
     "execution_count": 9,
     "metadata": {},
     "output_type": "execute_result"
    }
   ],
   "source": [
    "pd.Series(pd.date_range('2021-01-01', periods=3, freq='2h'))"
   ]
  },
  {
   "cell_type": "code",
   "execution_count": 10,
   "id": "appreciated-lucas",
   "metadata": {},
   "outputs": [
    {
     "data": {
      "text/plain": [
       "0   2021-01-01 00:00:00\n",
       "1   2021-01-01 00:00:05\n",
       "2   2021-01-01 00:00:10\n",
       "dtype: datetime64[ns]"
      ]
     },
     "execution_count": 10,
     "metadata": {},
     "output_type": "execute_result"
    }
   ],
   "source": [
    "pd.Series(pd.date_range('2021-01-01', periods=3, freq='5s'))"
   ]
  },
  {
   "cell_type": "code",
   "execution_count": 11,
   "id": "outstanding-hobby",
   "metadata": {},
   "outputs": [],
   "source": [
    "dates = pd.Series(pd.date_range('2021-11-01', periods=100, freq='15min'))\n",
    "data = np.random.randint(3, 11, size=100)\n",
    "df = pd.DataFrame(data, index=dates)\n",
    "df = df.rename(columns = {0:'value'})"
   ]
  },
  {
   "cell_type": "code",
   "execution_count": 12,
   "id": "sealed-fight",
   "metadata": {},
   "outputs": [
    {
     "data": {
      "text/html": [
       "<div>\n",
       "<style scoped>\n",
       "    .dataframe tbody tr th:only-of-type {\n",
       "        vertical-align: middle;\n",
       "    }\n",
       "\n",
       "    .dataframe tbody tr th {\n",
       "        vertical-align: top;\n",
       "    }\n",
       "\n",
       "    .dataframe thead th {\n",
       "        text-align: right;\n",
       "    }\n",
       "</style>\n",
       "<table border=\"1\" class=\"dataframe\">\n",
       "  <thead>\n",
       "    <tr style=\"text-align: right;\">\n",
       "      <th></th>\n",
       "      <th>value</th>\n",
       "    </tr>\n",
       "  </thead>\n",
       "  <tbody>\n",
       "    <tr>\n",
       "      <th>2021-11-01 00:00:00</th>\n",
       "      <td>3</td>\n",
       "    </tr>\n",
       "    <tr>\n",
       "      <th>2021-11-01 00:15:00</th>\n",
       "      <td>7</td>\n",
       "    </tr>\n",
       "    <tr>\n",
       "      <th>2021-11-01 00:30:00</th>\n",
       "      <td>8</td>\n",
       "    </tr>\n",
       "    <tr>\n",
       "      <th>2021-11-01 00:45:00</th>\n",
       "      <td>8</td>\n",
       "    </tr>\n",
       "    <tr>\n",
       "      <th>2021-11-01 01:00:00</th>\n",
       "      <td>5</td>\n",
       "    </tr>\n",
       "    <tr>\n",
       "      <th>...</th>\n",
       "      <td>...</td>\n",
       "    </tr>\n",
       "    <tr>\n",
       "      <th>2021-11-01 23:45:00</th>\n",
       "      <td>3</td>\n",
       "    </tr>\n",
       "    <tr>\n",
       "      <th>2021-11-02 00:00:00</th>\n",
       "      <td>3</td>\n",
       "    </tr>\n",
       "    <tr>\n",
       "      <th>2021-11-02 00:15:00</th>\n",
       "      <td>8</td>\n",
       "    </tr>\n",
       "    <tr>\n",
       "      <th>2021-11-02 00:30:00</th>\n",
       "      <td>8</td>\n",
       "    </tr>\n",
       "    <tr>\n",
       "      <th>2021-11-02 00:45:00</th>\n",
       "      <td>5</td>\n",
       "    </tr>\n",
       "  </tbody>\n",
       "</table>\n",
       "<p>100 rows × 1 columns</p>\n",
       "</div>"
      ],
      "text/plain": [
       "                     value\n",
       "2021-11-01 00:00:00      3\n",
       "2021-11-01 00:15:00      7\n",
       "2021-11-01 00:30:00      8\n",
       "2021-11-01 00:45:00      8\n",
       "2021-11-01 01:00:00      5\n",
       "...                    ...\n",
       "2021-11-01 23:45:00      3\n",
       "2021-11-02 00:00:00      3\n",
       "2021-11-02 00:15:00      8\n",
       "2021-11-02 00:30:00      8\n",
       "2021-11-02 00:45:00      5\n",
       "\n",
       "[100 rows x 1 columns]"
      ]
     },
     "execution_count": 12,
     "metadata": {},
     "output_type": "execute_result"
    }
   ],
   "source": [
    "df"
   ]
  },
  {
   "cell_type": "code",
   "execution_count": 13,
   "id": "welsh-royalty",
   "metadata": {},
   "outputs": [
    {
     "name": "stdout",
     "output_type": "stream",
     "text": [
      "<class 'pandas.core.frame.DataFrame'>\n",
      "DatetimeIndex: 100 entries, 2021-11-01 00:00:00 to 2021-11-02 00:45:00\n",
      "Data columns (total 1 columns):\n",
      " #   Column  Non-Null Count  Dtype\n",
      "---  ------  --------------  -----\n",
      " 0   value   100 non-null    int64\n",
      "dtypes: int64(1)\n",
      "memory usage: 1.6 KB\n"
     ]
    }
   ],
   "source": [
    "df.info()"
   ]
  },
  {
   "cell_type": "code",
   "execution_count": 14,
   "id": "rocky-andorra",
   "metadata": {},
   "outputs": [
    {
     "data": {
      "text/html": [
       "<div>\n",
       "<style scoped>\n",
       "    .dataframe tbody tr th:only-of-type {\n",
       "        vertical-align: middle;\n",
       "    }\n",
       "\n",
       "    .dataframe tbody tr th {\n",
       "        vertical-align: top;\n",
       "    }\n",
       "\n",
       "    .dataframe thead th {\n",
       "        text-align: right;\n",
       "    }\n",
       "</style>\n",
       "<table border=\"1\" class=\"dataframe\">\n",
       "  <thead>\n",
       "    <tr style=\"text-align: right;\">\n",
       "      <th></th>\n",
       "      <th>index</th>\n",
       "      <th>value</th>\n",
       "    </tr>\n",
       "  </thead>\n",
       "  <tbody>\n",
       "    <tr>\n",
       "      <th>0</th>\n",
       "      <td>2021-11-01 00:00:00</td>\n",
       "      <td>3</td>\n",
       "    </tr>\n",
       "    <tr>\n",
       "      <th>1</th>\n",
       "      <td>2021-11-01 00:15:00</td>\n",
       "      <td>7</td>\n",
       "    </tr>\n",
       "    <tr>\n",
       "      <th>2</th>\n",
       "      <td>2021-11-01 00:30:00</td>\n",
       "      <td>8</td>\n",
       "    </tr>\n",
       "    <tr>\n",
       "      <th>3</th>\n",
       "      <td>2021-11-01 00:45:00</td>\n",
       "      <td>8</td>\n",
       "    </tr>\n",
       "    <tr>\n",
       "      <th>4</th>\n",
       "      <td>2021-11-01 01:00:00</td>\n",
       "      <td>5</td>\n",
       "    </tr>\n",
       "    <tr>\n",
       "      <th>...</th>\n",
       "      <td>...</td>\n",
       "      <td>...</td>\n",
       "    </tr>\n",
       "    <tr>\n",
       "      <th>95</th>\n",
       "      <td>2021-11-01 23:45:00</td>\n",
       "      <td>3</td>\n",
       "    </tr>\n",
       "    <tr>\n",
       "      <th>96</th>\n",
       "      <td>2021-11-02 00:00:00</td>\n",
       "      <td>3</td>\n",
       "    </tr>\n",
       "    <tr>\n",
       "      <th>97</th>\n",
       "      <td>2021-11-02 00:15:00</td>\n",
       "      <td>8</td>\n",
       "    </tr>\n",
       "    <tr>\n",
       "      <th>98</th>\n",
       "      <td>2021-11-02 00:30:00</td>\n",
       "      <td>8</td>\n",
       "    </tr>\n",
       "    <tr>\n",
       "      <th>99</th>\n",
       "      <td>2021-11-02 00:45:00</td>\n",
       "      <td>5</td>\n",
       "    </tr>\n",
       "  </tbody>\n",
       "</table>\n",
       "<p>100 rows × 2 columns</p>\n",
       "</div>"
      ],
      "text/plain": [
       "                 index  value\n",
       "0  2021-11-01 00:00:00      3\n",
       "1  2021-11-01 00:15:00      7\n",
       "2  2021-11-01 00:30:00      8\n",
       "3  2021-11-01 00:45:00      8\n",
       "4  2021-11-01 01:00:00      5\n",
       "..                 ...    ...\n",
       "95 2021-11-01 23:45:00      3\n",
       "96 2021-11-02 00:00:00      3\n",
       "97 2021-11-02 00:15:00      8\n",
       "98 2021-11-02 00:30:00      8\n",
       "99 2021-11-02 00:45:00      5\n",
       "\n",
       "[100 rows x 2 columns]"
      ]
     },
     "execution_count": 14,
     "metadata": {},
     "output_type": "execute_result"
    }
   ],
   "source": [
    "df.reset_index()"
   ]
  },
  {
   "cell_type": "code",
   "execution_count": 21,
   "id": "future-addiction",
   "metadata": {},
   "outputs": [],
   "source": [
    "hours = df.resample('8H').mean()"
   ]
  },
  {
   "cell_type": "code",
   "execution_count": 22,
   "id": "revolutionary-convert",
   "metadata": {},
   "outputs": [
    {
     "data": {
      "text/html": [
       "<div>\n",
       "<style scoped>\n",
       "    .dataframe tbody tr th:only-of-type {\n",
       "        vertical-align: middle;\n",
       "    }\n",
       "\n",
       "    .dataframe tbody tr th {\n",
       "        vertical-align: top;\n",
       "    }\n",
       "\n",
       "    .dataframe thead th {\n",
       "        text-align: right;\n",
       "    }\n",
       "</style>\n",
       "<table border=\"1\" class=\"dataframe\">\n",
       "  <thead>\n",
       "    <tr style=\"text-align: right;\">\n",
       "      <th></th>\n",
       "      <th>value</th>\n",
       "    </tr>\n",
       "  </thead>\n",
       "  <tbody>\n",
       "    <tr>\n",
       "      <th>2021-11-01 00:00:00</th>\n",
       "      <td>6.31250</td>\n",
       "    </tr>\n",
       "    <tr>\n",
       "      <th>2021-11-01 08:00:00</th>\n",
       "      <td>6.71875</td>\n",
       "    </tr>\n",
       "    <tr>\n",
       "      <th>2021-11-01 16:00:00</th>\n",
       "      <td>6.87500</td>\n",
       "    </tr>\n",
       "    <tr>\n",
       "      <th>2021-11-02 00:00:00</th>\n",
       "      <td>6.00000</td>\n",
       "    </tr>\n",
       "  </tbody>\n",
       "</table>\n",
       "</div>"
      ],
      "text/plain": [
       "                       value\n",
       "2021-11-01 00:00:00  6.31250\n",
       "2021-11-01 08:00:00  6.71875\n",
       "2021-11-01 16:00:00  6.87500\n",
       "2021-11-02 00:00:00  6.00000"
      ]
     },
     "execution_count": 22,
     "metadata": {},
     "output_type": "execute_result"
    }
   ],
   "source": [
    "hours"
   ]
  },
  {
   "cell_type": "code",
   "execution_count": null,
   "id": "hazardous-zoning",
   "metadata": {},
   "outputs": [],
   "source": [
    "#I want the mean of the first hour of every month"
   ]
  }
 ],
 "metadata": {
  "kernelspec": {
   "display_name": "dsls",
   "language": "python",
   "name": "dsls"
  },
  "language_info": {
   "codemirror_mode": {
    "name": "ipython",
    "version": 3
   },
   "file_extension": ".py",
   "mimetype": "text/x-python",
   "name": "python",
   "nbconvert_exporter": "python",
   "pygments_lexer": "ipython3",
   "version": "3.8.2"
  }
 },
 "nbformat": 4,
 "nbformat_minor": 5
}
