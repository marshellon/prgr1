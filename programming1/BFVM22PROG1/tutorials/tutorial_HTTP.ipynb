{
 "cells": [
  {
   "cell_type": "markdown",
   "metadata": {},
   "source": [
    "# Retrieving from HTTP"
   ]
  },
  {
   "cell_type": "markdown",
   "metadata": {},
   "source": [
    "Based on py4e.com\n",
    "\n",
    "The network protocol that powers the web is actually quite simple and there is built-in support in Python called **sockets** which makes it very easy to make network connections and retrieve data over those sockets in a Python program. \n",
    "A socket is much like a file, except that a single socket provides a two-way connection between two programs. You can both read from and write to the same socket. If you write something to a socket, it is sent to the application at the other end of the socket. If you read from the socket, you are given the data which the other application has sent.\n",
    "But if you try to read a socket when the program on the other end of the socket has not sent any data, you just sit and wait. If the programs on both ends of the socket simply wait for some data without sending anything, they will wait for a very long time, so an important part of programs that communicate over the Internet is to have some sort of protocol. \n",
    "\n",
    "The HyperText Transfer Protocol is described in the following document: https://www.w3.org/Protocols/rfc2616/rfc2616.txt. For example to request a document from a the web server bioinf.nl , we make a connection to the bioinf.nl server on port 80, and then send a line of the form\n",
    "\n",
    "    GET https://bioinf.nl/~fennaf/poem.txt HTTP/1.0\\r\\n\\r\\n'\n",
    "\n",
    "The HTTP protocol says we must send the GET command followed by a blank line. `\\r\\n` signifies an EOL (end of line), so `\\r\\n\\r\\n` signifies nothing between two EOL sequences. That is the equivalent of a blank line. Since the internet does not speak 'unicode' but needs UTF-8 coded strings we use the method `.encode()` to encode the get command into a UTF-8 readable format for the server. (Which is more efficient to process)\n",
    "\n"
   ]
  },
  {
   "cell_type": "markdown",
   "metadata": {},
   "source": [
    "Once Once we send that blank line, we write a loop that receives data in 512-character chunks from the socket and prints the data out until there is no more data to read (i.e., the `recv()` returns an empty string). To make it a string in python we need to decode the data from UTF-8 to unicode using the method `.decode()`. When finished we can close the socket. "
   ]
  },
  {
   "cell_type": "code",
   "execution_count": 1,
   "metadata": {},
   "outputs": [
    {
     "name": "stdout",
     "output_type": "stream",
     "text": [
      "HTTP/1.1 200 OK\r\n",
      "Date: Wed, 21 Oct 2020 15:40:42 GMT\r\n",
      "Server: Apache/2.4.38 (Debian)\r\n",
      "Upgrade: h2,h2c\r\n",
      "Connection: Upgrade, close\r\n",
      "Last-Modified: Mon, 22 Apr 2019 17:59:14 GMT\r\n",
      "ETag: \"705-5872239fbaee7\"\r\n",
      "Accept-Ranges: bytes\r\n",
      "Content-Length: 1797\r\n",
      "Vary: Accept-Encoding\r\n",
      "Content-Type: text/plain\r\n",
      "\r\n",
      "The Eagle soars in the summit of Heaven,\n",
      "The Hunter with his dogs pursues his circuit.\n",
      "O perpetual revolution of configured stars,\n",
      "O perpetual recurrence of determined seasons,\n",
      "O world of spring and autumn, birth and dying!\n",
      "The Eagle soars in the summit of Heaven,\n",
      "The Hunter with his dogs pursues his circuit.\n",
      "O perpetual revolution of configured stars,\n",
      "O perpetual recurrence of determined seasons,\n",
      "O world of spring and autumn, birth and dying!\n",
      "The endless cycle of idea and action,\n",
      "Endless invention, endless experiment,\n",
      "Brings knowledge of motion, but not of stillness;\n",
      "Knowledge of speech, but not of silence;\n",
      "Knowledge of words, and ignorance of the Word.\n",
      "All our knowledge brings us nearer to death,\n",
      "But nearness to death no nearer to God.\n",
      "Where is the Life we have lost in living?\n",
      "Where is the wisdom we have lost in knowledge?\n",
      "Where is the knowledge we have lost in information?\n",
      "The cycles of heaven in twenty centuries\n",
      "Brings us farther from God and nearer to the Dust.\n",
      "The lot of man is ceaseless labor,\n",
      "Or ceaseless idleness, which is still harder,\n",
      "Or irregular labour, which is not pleasant.\n",
      "I have trodden the winepress alone, and I know\n",
      "That it is hard to be really useful, resigning\n",
      "The things that men count for happiness, seeking\n",
      "The good deeds that lead to obscurity, accepting\n",
      "With equal face those that bring ignominy,\n",
      "The applause of all or the love of none.\n",
      "All men are ready to invest their money\n",
      "But most expect dividends.\n",
      "I say to you: Make perfect your will.\n",
      "I say: take no thought of the harvest,\n",
      "But only of proper sowing.\n",
      "\n",
      "The world turns and the world changes,\n",
      "But one thing does not change.\n",
      "In all of my years, one thing does not change,\n",
      "However you disguise it, this thing does not change:\n",
      "The perpetual struggle of Good and Evil.\n",
      "\n",
      "\n",
      "from \"The Rock\"\n",
      "by T.S. Eliot\n"
     ]
    }
   ],
   "source": [
    "import socket\n",
    "\n",
    "mysock = socket.socket(socket.AF_INET, socket.SOCK_STREAM)\n",
    "mysock.connect(('bioinf.nl', 80))\n",
    "cmd = 'GET https://bioinf.nl/~fennaf/poem.txt HTTP/1.0\\r\\n\\r\\n'.encode()\n",
    "mysock.send(cmd)\n",
    "\n",
    "while True:\n",
    "    data = mysock.recv(512)\n",
    "    if len(data) < 1:\n",
    "        break\n",
    "    print(data.decode(),end='')\n",
    "\n",
    "mysock.close()\n"
   ]
  },
  {
   "cell_type": "markdown",
   "metadata": {},
   "source": [
    "The output starts with headers which the web server sends to describe the document. For example, the Content-Type header indicates that the document is a plain text document ( text/plain ).\n",
    "After the server sends us the headers, it adds a blank line to indicate the end of the headers, and then sends the actual data of the file romeo.txt.\n",
    "This example shows how to make a low-level network connection with sockets. Sockets can be used to communicate with a web server or with a mail server or many other kinds of servers. All that is needed is to find the document which describes the protocol and write the code to send and receive the data according to the protocol.\n",
    "However, since the protocol that we use most commonly is the HTTP web protocol, Python has a special library specifically designed to support the HTTP protocol for the retrieval of documents and data over the web.\n",
    "One of the requirements for using the HTTP protocol is the need to send and receive data as bytes objects, instead of strings. In the preceding example, the encode() and decode() methods convert strings into bytes objects and back again."
   ]
  },
  {
   "cell_type": "markdown",
   "metadata": {},
   "source": [
    "## using urllib\n",
    "\n",
    "While we can manually send and receive data over HTTP using the socket library, there is a much simpler way to\n",
    "perform this common task in Python by using the urllib library.\n",
    "Using urllib , you can treat a web page much like a file. You simply indicate which web page you would like to\n",
    "retrieve and urllib handles all of the HTTP protocol and header details.\n",
    "The equivalent code to read the romeo.txt file from the web using urllib is as follows:"
   ]
  },
  {
   "cell_type": "code",
   "execution_count": 2,
   "metadata": {
    "scrolled": true
   },
   "outputs": [
    {
     "name": "stdout",
     "output_type": "stream",
     "text": [
      "The Eagle soars in the summit of Heaven,\n",
      "The Hunter with his dogs pursues his circuit.\n",
      "O perpetual revolution of configured stars,\n",
      "O perpetual recurrence of determined seasons,\n",
      "O world of spring and autumn, birth and dying!\n",
      "The Eagle soars in the summit of Heaven,\n",
      "The Hunter with his dogs pursues his circuit.\n",
      "O perpetual revolution of configured stars,\n",
      "O perpetual recurrence of determined seasons,\n",
      "O world of spring and autumn, birth and dying!\n",
      "The endless cycle of idea and action,\n",
      "Endless invention, endless experiment,\n",
      "Brings knowledge of motion, but not of stillness;\n",
      "Knowledge of speech, but not of silence;\n",
      "Knowledge of words, and ignorance of the Word.\n",
      "All our knowledge brings us nearer to death,\n",
      "But nearness to death no nearer to God.\n",
      "Where is the Life we have lost in living?\n",
      "Where is the wisdom we have lost in knowledge?\n",
      "Where is the knowledge we have lost in information?\n",
      "The cycles of heaven in twenty centuries\n",
      "Brings us farther from God and nearer to the Dust.\n",
      "The lot of man is ceaseless labor,\n",
      "Or ceaseless idleness, which is still harder,\n",
      "Or irregular labour, which is not pleasant.\n",
      "I have trodden the winepress alone, and I know\n",
      "That it is hard to be really useful, resigning\n",
      "The things that men count for happiness, seeking\n",
      "The good deeds that lead to obscurity, accepting\n",
      "With equal face those that bring ignominy,\n",
      "The applause of all or the love of none.\n",
      "All men are ready to invest their money\n",
      "But most expect dividends.\n",
      "I say to you: Make perfect your will.\n",
      "I say: take no thought of the harvest,\n",
      "But only of proper sowing.\n",
      "\n",
      "The world turns and the world changes,\n",
      "But one thing does not change.\n",
      "In all of my years, one thing does not change,\n",
      "However you disguise it, this thing does not change:\n",
      "The perpetual struggle of Good and Evil.\n",
      "\n",
      "\n",
      "from \"The Rock\"\n",
      "by T.S. Eliot\n"
     ]
    }
   ],
   "source": [
    "import urllib.request\n",
    "import ssl\n",
    "\n",
    "#ctx = ssl.create_default_context()\n",
    "#ctx.check_hostname = False\n",
    "#ctx.verify_mode = ssl.CERT_NONE\n",
    "\n",
    "fhand = urllib.request.urlopen('https://bioinf.nl/~fennaf/poem.txt')#, context=ctx)\n",
    "for line in fhand:\n",
    "    print(line.decode().strip())\n"
   ]
  },
  {
   "cell_type": "markdown",
   "metadata": {},
   "source": [
    "Once the web page has been opened with urllib.urlopen , we can treat it like a file and read through it using a for loop."
   ]
  },
  {
   "cell_type": "code",
   "execution_count": 3,
   "metadata": {},
   "outputs": [
    {
     "name": "stdout",
     "output_type": "stream",
     "text": [
      "{'The': 12, 'Eagle': 2, 'soars': 2, 'in': 6, 'the': 11, 'summit': 2, 'of': 23, 'Heaven,': 2, 'Hunter': 2, 'with': 2, 'his': 4, 'dogs': 2, 'pursues': 2, 'circuit.': 2, 'O': 6, 'perpetual': 5, 'revolution': 2, 'configured': 2, 'stars,': 2, 'recurrence': 2, 'determined': 2, 'seasons,': 2, 'world': 4, 'spring': 2, 'and': 10, 'autumn,': 2, 'birth': 2, 'dying!': 2, 'endless': 2, 'cycle': 1, 'idea': 1, 'action,': 1, 'Endless': 1, 'invention,': 1, 'experiment,': 1, 'Brings': 2, 'knowledge': 3, 'motion,': 1, 'but': 2, 'not': 6, 'stillness;': 1, 'Knowledge': 2, 'speech,': 1, 'silence;': 1, 'words,': 1, 'ignorance': 1, 'Word.': 1, 'All': 2, 'our': 1, 'brings': 1, 'us': 2, 'nearer': 3, 'to': 8, 'death,': 1, 'But': 4, 'nearness': 1, 'death': 1, 'no': 2, 'God.': 1, 'Where': 3, 'is': 7, 'Life': 1, 'we': 3, 'have': 4, 'lost': 3, 'living?': 1, 'wisdom': 1, 'knowledge?': 1, 'information?': 1, 'cycles': 1, 'heaven': 1, 'twenty': 1, 'centuries': 1, 'farther': 1, 'from': 2, 'God': 1, 'Dust.': 1, 'lot': 1, 'man': 1, 'ceaseless': 2, 'labor,': 1, 'Or': 2, 'idleness,': 1, 'which': 2, 'still': 1, 'harder,': 1, 'irregular': 1, 'labour,': 1, 'pleasant.': 1, 'I': 4, 'trodden': 1, 'winepress': 1, 'alone,': 1, 'know': 1, 'That': 1, 'it': 1, 'hard': 1, 'be': 1, 'really': 1, 'useful,': 1, 'resigning': 1, 'things': 1, 'that': 3, 'men': 2, 'count': 1, 'for': 1, 'happiness,': 1, 'seeking': 1, 'good': 1, 'deeds': 1, 'lead': 1, 'obscurity,': 1, 'accepting': 1, 'With': 1, 'equal': 1, 'face': 1, 'those': 1, 'bring': 1, 'ignominy,': 1, 'applause': 1, 'all': 2, 'or': 1, 'love': 1, 'none.': 1, 'are': 1, 'ready': 1, 'invest': 1, 'their': 1, 'money': 1, 'most': 1, 'expect': 1, 'dividends.': 1, 'say': 1, 'you:': 1, 'Make': 1, 'perfect': 1, 'your': 1, 'will.': 1, 'say:': 1, 'take': 1, 'thought': 1, 'harvest,': 1, 'only': 1, 'proper': 1, 'sowing.': 1, 'turns': 1, 'changes,': 1, 'one': 2, 'thing': 3, 'does': 3, 'change.': 1, 'In': 1, 'my': 1, 'years,': 1, 'change,': 1, 'However': 1, 'you': 1, 'disguise': 1, 'it,': 1, 'this': 1, 'change:': 1, 'struggle': 1, 'Good': 1, 'Evil.': 1, '\"The': 1, 'Rock\"': 1, 'by': 1, 'T.S.': 1, 'Eliot': 1}\n"
     ]
    }
   ],
   "source": [
    "import urllib.request, urllib.parse, urllib.error\n",
    "import ssl\n",
    "\n",
    "ctx = ssl.create_default_context()\n",
    "ctx.check_hostname = False\n",
    "ctx.verify_mode = ssl.CERT_NONE\n",
    "\n",
    "fhand = urllib.request.urlopen('https://bioinf.nl/~fennaf/poem.txt', context = ctx)\n",
    "counts = dict()\n",
    "for line in fhand:\n",
    "    words = line.decode().split()\n",
    "    for word in words:\n",
    "        counts[word] = counts.get(word, 0) + 1\n",
    "print(counts)"
   ]
  },
  {
   "cell_type": "markdown",
   "metadata": {},
   "source": [
    "In the example above the textfile is a simple txt format, easy to read and handle. A txt file is difficult to send data in a format of an object or a table. For that reason protocols like HTML XML and JSON are invented. See webscraping tutorial"
   ]
  }
 ],
 "metadata": {
  "kernelspec": {
   "display_name": "Python 3",
   "language": "python",
   "name": "python3"
  },
  "language_info": {
   "codemirror_mode": {
    "name": "ipython",
    "version": 3
   },
   "file_extension": ".py",
   "mimetype": "text/x-python",
   "name": "python",
   "nbconvert_exporter": "python",
   "pygments_lexer": "ipython3",
   "version": "3.8.1"
  }
 },
 "nbformat": 4,
 "nbformat_minor": 2
}
