{
 "cells": [
  {
   "cell_type": "markdown",
   "metadata": {},
   "source": [
    "# JSON\n",
    "\n",
    "The JSON format https://www.json.org/json-en.html was inspired by the object and array format used in the JavaScript language. It is a text based open standard designed for human readable data interchange. It is language independent. Since Python was invented before JavaScript, Python’s syntax for dictionaries and lists influenced the syntax of JSON. So the format of JSON is nearly identical to a combination of Python lists and dictionaries. Here is a JSON encoding that is roughly equivalent to the simple XML format:"
   ]
  },
  {
   "cell_type": "markdown",
   "metadata": {},
   "source": [
    "JSON\n",
    "\n",
    "JavaScript Object Notation\n",
    "\n",
    "    {\"menu\": {\n",
    "      \"id\": \"file\",\n",
    "      \"value\": \"File\",\n",
    "      \"popup\": {\n",
    "        \"menuitem\": [\n",
    "          {\"value\": \"New\", \"onclick\": \"CreateNewDoc()\"},\n",
    "          {\"value\": \"Open\", \"onclick\": \"OpenDoc()\"},\n",
    "          {\"value\": \"Close\", \"onclick\": \"CloseDoc()\"}\n",
    "        ]\n",
    "      }\n",
    "    }}\n",
    "    \n",
    "\n",
    "\n",
    "Using Python\n",
    "https://docs.python.org/3.6/library/json.html"
   ]
  },
  {
   "cell_type": "markdown",
   "metadata": {},
   "source": [
    "A JSON object is a set of name/key value pairs. A pair like `\"id\" : \"file\"` or `\"value\" : \"File\"`. The value can be a string, number, object, array, True, False or Null value. The `\"popup\"` key has a value of another JSON object \n",
    "    \n",
    "`{\n",
    "    \"menuitem\": [\n",
    "      {\"value\": \"New\", \"onclick\": \"CreateNewDoc()\"},\n",
    "      {\"value\": \"Open\", \"onclick\": \"OpenDoc()\"},\n",
    "      {\"value\": \"Close\", \"onclick\": \"CloseDoc()\"}\n",
    "    ]\n",
    "  }`\n",
    "  \n",
    "So JSON objects can be compared to a row in a dataframe with column names and values, but a value can be a complete new dataframe. It can have multiple records even. We call such a collection of values. it is represented by a `[ ]`. In the example above we see that the key \"menuitem\" has a value of the collection of 3 JSON objects, `[\n",
    "      {\"value\": \"New\", \"onclick\": \"CreateNewDoc()\"},\n",
    "      {\"value\": \"Open\", \"onclick\": \"OpenDoc()\"},\n",
    "      {\"value\": \"Close\", \"onclick\": \"CloseDoc()\"}\n",
    "    ]`"
   ]
  },
  {
   "cell_type": "markdown",
   "metadata": {},
   "source": [
    "We can state that a JSON object looks like a dictionary. It can have a dictionary as a value, and this can lead to a dictionary in a dictionary tree. It is derived from Javascript in which an object is described like a dictionary. "
   ]
  },
  {
   "cell_type": "code",
   "execution_count": 1,
   "metadata": {
    "scrolled": true
   },
   "outputs": [
    {
     "data": {
      "text/plain": [
       "{'max_score': 5.9047804,\n",
       " 'took': 47,\n",
       " 'total': 288,\n",
       " 'hits': [{'_id': '8660',\n",
       "   '_score': 5.9047804,\n",
       "   'entrezgene': '8660',\n",
       "   'name': 'insulin receptor substrate 2',\n",
       "   'symbol': 'IRS2',\n",
       "   'taxid': 9606},\n",
       "  {'_id': '3667',\n",
       "   '_score': 5.812647,\n",
       "   'entrezgene': '3667',\n",
       "   'name': 'insulin receptor substrate 1',\n",
       "   'symbol': 'IRS1',\n",
       "   'taxid': 9606},\n",
       "  {'_id': '3643',\n",
       "   '_score': 5.759741,\n",
       "   'entrezgene': '3643',\n",
       "   'name': 'insulin receptor',\n",
       "   'symbol': 'INSR',\n",
       "   'taxid': 9606},\n",
       "  {'_id': '10580',\n",
       "   '_score': 5.6254673,\n",
       "   'entrezgene': '10580',\n",
       "   'name': 'sorbin and SH3 domain containing 1',\n",
       "   'symbol': 'SORBS1',\n",
       "   'taxid': 9606},\n",
       "  {'_id': '8471',\n",
       "   '_score': 5.5908923,\n",
       "   'entrezgene': '8471',\n",
       "   'name': 'insulin receptor substrate 4',\n",
       "   'symbol': 'IRS4',\n",
       "   'taxid': 9606},\n",
       "  {'_id': '60676',\n",
       "   '_score': 5.443571,\n",
       "   'entrezgene': '60676',\n",
       "   'name': 'pappalysin 2',\n",
       "   'symbol': 'PAPPA2',\n",
       "   'taxid': 9606},\n",
       "  {'_id': '3630',\n",
       "   '_score': 5.4403577,\n",
       "   'entrezgene': '3630',\n",
       "   'name': 'insulin',\n",
       "   'symbol': 'INS',\n",
       "   'taxid': 9606},\n",
       "  {'_id': '6517',\n",
       "   '_score': 5.3434577,\n",
       "   'entrezgene': '6517',\n",
       "   'name': 'solute carrier family 2 member 4',\n",
       "   'symbol': 'SLC2A4',\n",
       "   'taxid': 9606},\n",
       "  {'_id': '10000',\n",
       "   '_score': 5.3161077,\n",
       "   'entrezgene': '10000',\n",
       "   'name': 'AKT serine/threonine kinase 3',\n",
       "   'symbol': 'AKT3',\n",
       "   'taxid': 9606},\n",
       "  {'_id': '3651',\n",
       "   '_score': 5.288981,\n",
       "   'entrezgene': '3651',\n",
       "   'name': 'pancreatic and duodenal homeobox 1',\n",
       "   'symbol': 'PDX1',\n",
       "   'taxid': 9606}]}"
      ]
     },
     "execution_count": 1,
     "metadata": {},
     "output_type": "execute_result"
    }
   ],
   "source": [
    "import json\n",
    "f = open('../data/sample.json')\n",
    "data = json.load(f)\n",
    "# What does this look like?\n",
    "data"
   ]
  },
  {
   "cell_type": "code",
   "execution_count": 2,
   "metadata": {
    "scrolled": true
   },
   "outputs": [
    {
     "name": "stdout",
     "output_type": "stream",
     "text": [
      "dict_keys(['max_score', 'took', 'total', 'hits'])\n"
     ]
    }
   ],
   "source": [
    "# Need to see what's available on the main branche\n",
    "print(data.keys())\n"
   ]
  },
  {
   "cell_type": "markdown",
   "metadata": {},
   "source": [
    "we can easily parse the data in a pandas dataframe"
   ]
  },
  {
   "cell_type": "code",
   "execution_count": 15,
   "metadata": {},
   "outputs": [
    {
     "name": "stdout",
     "output_type": "stream",
     "text": [
      "dict_keys(['_id', '_score', 'entrezgene', 'name', 'symbol', 'taxid'])\n"
     ]
    }
   ],
   "source": [
    "# see what is available on the hits branche\n",
    "a = data['hits'][0]\n",
    "print(a.keys())\n",
    "    "
   ]
  },
  {
   "cell_type": "code",
   "execution_count": 16,
   "metadata": {},
   "outputs": [],
   "source": [
    "import pandas as pd\n",
    "df_data = pd.DataFrame.from_dict(data['hits'])"
   ]
  },
  {
   "cell_type": "code",
   "execution_count": 17,
   "metadata": {
    "scrolled": true
   },
   "outputs": [
    {
     "data": {
      "text/html": [
       "<div>\n",
       "<style scoped>\n",
       "    .dataframe tbody tr th:only-of-type {\n",
       "        vertical-align: middle;\n",
       "    }\n",
       "\n",
       "    .dataframe tbody tr th {\n",
       "        vertical-align: top;\n",
       "    }\n",
       "\n",
       "    .dataframe thead th {\n",
       "        text-align: right;\n",
       "    }\n",
       "</style>\n",
       "<table border=\"1\" class=\"dataframe\">\n",
       "  <thead>\n",
       "    <tr style=\"text-align: right;\">\n",
       "      <th></th>\n",
       "      <th>_id</th>\n",
       "      <th>_score</th>\n",
       "      <th>entrezgene</th>\n",
       "      <th>name</th>\n",
       "      <th>symbol</th>\n",
       "      <th>taxid</th>\n",
       "    </tr>\n",
       "  </thead>\n",
       "  <tbody>\n",
       "    <tr>\n",
       "      <th>0</th>\n",
       "      <td>8660</td>\n",
       "      <td>5.904780</td>\n",
       "      <td>8660</td>\n",
       "      <td>insulin receptor substrate 2</td>\n",
       "      <td>IRS2</td>\n",
       "      <td>9606</td>\n",
       "    </tr>\n",
       "    <tr>\n",
       "      <th>1</th>\n",
       "      <td>3667</td>\n",
       "      <td>5.812647</td>\n",
       "      <td>3667</td>\n",
       "      <td>insulin receptor substrate 1</td>\n",
       "      <td>IRS1</td>\n",
       "      <td>9606</td>\n",
       "    </tr>\n",
       "    <tr>\n",
       "      <th>2</th>\n",
       "      <td>3643</td>\n",
       "      <td>5.759741</td>\n",
       "      <td>3643</td>\n",
       "      <td>insulin receptor</td>\n",
       "      <td>INSR</td>\n",
       "      <td>9606</td>\n",
       "    </tr>\n",
       "    <tr>\n",
       "      <th>3</th>\n",
       "      <td>10580</td>\n",
       "      <td>5.625467</td>\n",
       "      <td>10580</td>\n",
       "      <td>sorbin and SH3 domain containing 1</td>\n",
       "      <td>SORBS1</td>\n",
       "      <td>9606</td>\n",
       "    </tr>\n",
       "    <tr>\n",
       "      <th>4</th>\n",
       "      <td>8471</td>\n",
       "      <td>5.590892</td>\n",
       "      <td>8471</td>\n",
       "      <td>insulin receptor substrate 4</td>\n",
       "      <td>IRS4</td>\n",
       "      <td>9606</td>\n",
       "    </tr>\n",
       "    <tr>\n",
       "      <th>5</th>\n",
       "      <td>60676</td>\n",
       "      <td>5.443571</td>\n",
       "      <td>60676</td>\n",
       "      <td>pappalysin 2</td>\n",
       "      <td>PAPPA2</td>\n",
       "      <td>9606</td>\n",
       "    </tr>\n",
       "    <tr>\n",
       "      <th>6</th>\n",
       "      <td>3630</td>\n",
       "      <td>5.440358</td>\n",
       "      <td>3630</td>\n",
       "      <td>insulin</td>\n",
       "      <td>INS</td>\n",
       "      <td>9606</td>\n",
       "    </tr>\n",
       "    <tr>\n",
       "      <th>7</th>\n",
       "      <td>6517</td>\n",
       "      <td>5.343458</td>\n",
       "      <td>6517</td>\n",
       "      <td>solute carrier family 2 member 4</td>\n",
       "      <td>SLC2A4</td>\n",
       "      <td>9606</td>\n",
       "    </tr>\n",
       "    <tr>\n",
       "      <th>8</th>\n",
       "      <td>10000</td>\n",
       "      <td>5.316108</td>\n",
       "      <td>10000</td>\n",
       "      <td>AKT serine/threonine kinase 3</td>\n",
       "      <td>AKT3</td>\n",
       "      <td>9606</td>\n",
       "    </tr>\n",
       "    <tr>\n",
       "      <th>9</th>\n",
       "      <td>3651</td>\n",
       "      <td>5.288981</td>\n",
       "      <td>3651</td>\n",
       "      <td>pancreatic and duodenal homeobox 1</td>\n",
       "      <td>PDX1</td>\n",
       "      <td>9606</td>\n",
       "    </tr>\n",
       "  </tbody>\n",
       "</table>\n",
       "</div>"
      ],
      "text/plain": [
       "     _id    _score entrezgene                                name  symbol  \\\n",
       "0   8660  5.904780       8660        insulin receptor substrate 2    IRS2   \n",
       "1   3667  5.812647       3667        insulin receptor substrate 1    IRS1   \n",
       "2   3643  5.759741       3643                    insulin receptor    INSR   \n",
       "3  10580  5.625467      10580  sorbin and SH3 domain containing 1  SORBS1   \n",
       "4   8471  5.590892       8471        insulin receptor substrate 4    IRS4   \n",
       "5  60676  5.443571      60676                        pappalysin 2  PAPPA2   \n",
       "6   3630  5.440358       3630                             insulin     INS   \n",
       "7   6517  5.343458       6517    solute carrier family 2 member 4  SLC2A4   \n",
       "8  10000  5.316108      10000       AKT serine/threonine kinase 3    AKT3   \n",
       "9   3651  5.288981       3651  pancreatic and duodenal homeobox 1    PDX1   \n",
       "\n",
       "   taxid  \n",
       "0   9606  \n",
       "1   9606  \n",
       "2   9606  \n",
       "3   9606  \n",
       "4   9606  \n",
       "5   9606  \n",
       "6   9606  \n",
       "7   9606  \n",
       "8   9606  \n",
       "9   9606  "
      ]
     },
     "execution_count": 17,
     "metadata": {},
     "output_type": "execute_result"
    }
   ],
   "source": [
    "df_data\n"
   ]
  },
  {
   "cell_type": "code",
   "execution_count": 18,
   "metadata": {},
   "outputs": [
    {
     "name": "stdout",
     "output_type": "stream",
     "text": [
      "_id            object\n",
      "_score        float64\n",
      "entrezgene     object\n",
      "name           object\n",
      "symbol         object\n",
      "taxid           int64\n",
      "dtype: object\n"
     ]
    }
   ],
   "source": [
    "print(df_data.dtypes)\n",
    "## outputting to json"
   ]
  },
  {
   "cell_type": "markdown",
   "metadata": {},
   "source": [
    "But we can also define a json object and write it to a json file"
   ]
  },
  {
   "cell_type": "code",
   "execution_count": 19,
   "metadata": {},
   "outputs": [],
   "source": [
    "data = {\"menu\": {\n",
    "  \"id\": \"file\",\n",
    "  \"value\": \"File\",\n",
    "  \"popup\": {\n",
    "    \"menuitem\": [\n",
    "      {\"value\": \"New\", \"onclick\": \"CreateNewDoc()\"},\n",
    "      {\"value\": \"Open\", \"onclick\": \"OpenDoc()\"},\n",
    "      {\"value\": \"Close\", \"onclick\": \"CloseDoc()\"}\n",
    "    ]\n",
    "  }\n",
    "}}\n",
    "\n",
    "with open('output.json', 'w') as f:\n",
    "    json.dump(data, f)"
   ]
  },
  {
   "cell_type": "markdown",
   "metadata": {},
   "source": [
    "we can use https://jsonlint.com to validate the output"
   ]
  },
  {
   "cell_type": "markdown",
   "metadata": {},
   "source": [
    "https://pandas.pydata.org/pandas-docs/stable/reference/api/pandas.DataFrame.to_json.html"
   ]
  },
  {
   "cell_type": "markdown",
   "metadata": {},
   "source": [
    "Mind you if you want to write a dataframe to a json object you need to think about the orientation"
   ]
  },
  {
   "cell_type": "code",
   "execution_count": 20,
   "metadata": {},
   "outputs": [
    {
     "data": {
      "text/plain": [
       "'[{\"_id\":\"8660\",\"_score\":5.9047804,\"entrezgene\":\"8660\",\"name\":\"insulin receptor substrate 2\",\"symbol\":\"IRS2\",\"taxid\":9606},{\"_id\":\"3667\",\"_score\":5.812647,\"entrezgene\":\"3667\",\"name\":\"insulin receptor substrate 1\",\"symbol\":\"IRS1\",\"taxid\":9606},{\"_id\":\"3643\",\"_score\":5.759741,\"entrezgene\":\"3643\",\"name\":\"insulin receptor\",\"symbol\":\"INSR\",\"taxid\":9606},{\"_id\":\"10580\",\"_score\":5.6254673,\"entrezgene\":\"10580\",\"name\":\"sorbin and SH3 domain containing 1\",\"symbol\":\"SORBS1\",\"taxid\":9606},{\"_id\":\"8471\",\"_score\":5.5908923,\"entrezgene\":\"8471\",\"name\":\"insulin receptor substrate 4\",\"symbol\":\"IRS4\",\"taxid\":9606},{\"_id\":\"60676\",\"_score\":5.443571,\"entrezgene\":\"60676\",\"name\":\"pappalysin 2\",\"symbol\":\"PAPPA2\",\"taxid\":9606},{\"_id\":\"3630\",\"_score\":5.4403577,\"entrezgene\":\"3630\",\"name\":\"insulin\",\"symbol\":\"INS\",\"taxid\":9606},{\"_id\":\"6517\",\"_score\":5.3434577,\"entrezgene\":\"6517\",\"name\":\"solute carrier family 2 member 4\",\"symbol\":\"SLC2A4\",\"taxid\":9606},{\"_id\":\"10000\",\"_score\":5.3161077,\"entrezgene\":\"10000\",\"name\":\"AKT serine\\\\/threonine kinase 3\",\"symbol\":\"AKT3\",\"taxid\":9606},{\"_id\":\"3651\",\"_score\":5.288981,\"entrezgene\":\"3651\",\"name\":\"pancreatic and duodenal homeobox 1\",\"symbol\":\"PDX1\",\"taxid\":9606}]'"
      ]
     },
     "execution_count": 20,
     "metadata": {},
     "output_type": "execute_result"
    }
   ],
   "source": [
    "data = df_data.to_json(orient='records')\n",
    "data"
   ]
  },
  {
   "cell_type": "code",
   "execution_count": 9,
   "metadata": {},
   "outputs": [],
   "source": [
    "with open('output.json', 'w') as f:\n",
    "    json.dump(data, f)"
   ]
  }
 ],
 "metadata": {
  "kernelspec": {
   "display_name": "Python 3",
   "language": "python",
   "name": "python3"
  },
  "language_info": {
   "codemirror_mode": {
    "name": "ipython",
    "version": 3
   },
   "file_extension": ".py",
   "mimetype": "text/x-python",
   "name": "python",
   "nbconvert_exporter": "python",
   "pygments_lexer": "ipython3",
   "version": "3.8.1"
  }
 },
 "nbformat": 4,
 "nbformat_minor": 2
}
