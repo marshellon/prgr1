{
 "cells": [
  {
   "cell_type": "code",
   "execution_count": 1,
   "id": "governmental-toyota",
   "metadata": {},
   "outputs": [
    {
     "data": {
      "text/html": [
       "<div>\n",
       "<style scoped>\n",
       "    .dataframe tbody tr th:only-of-type {\n",
       "        vertical-align: middle;\n",
       "    }\n",
       "\n",
       "    .dataframe tbody tr th {\n",
       "        vertical-align: top;\n",
       "    }\n",
       "\n",
       "    .dataframe thead th {\n",
       "        text-align: right;\n",
       "    }\n",
       "</style>\n",
       "<table border=\"1\" class=\"dataframe\">\n",
       "  <thead>\n",
       "    <tr style=\"text-align: right;\">\n",
       "      <th></th>\n",
       "      <th></th>\n",
       "      <th>TG</th>\n",
       "      <th>TN</th>\n",
       "      <th>TX</th>\n",
       "      <th>SQ</th>\n",
       "      <th>DR</th>\n",
       "      <th>RH</th>\n",
       "    </tr>\n",
       "    <tr>\n",
       "      <th>STN</th>\n",
       "      <th>YYYYMMDD</th>\n",
       "      <th></th>\n",
       "      <th></th>\n",
       "      <th></th>\n",
       "      <th></th>\n",
       "      <th></th>\n",
       "      <th></th>\n",
       "    </tr>\n",
       "  </thead>\n",
       "  <tbody>\n",
       "    <tr>\n",
       "      <th rowspan=\"5\" valign=\"top\">270</th>\n",
       "      <th>20000101</th>\n",
       "      <td>42.0</td>\n",
       "      <td>-4</td>\n",
       "      <td>79.0</td>\n",
       "      <td>49</td>\n",
       "      <td>15</td>\n",
       "      <td>11.0</td>\n",
       "    </tr>\n",
       "    <tr>\n",
       "      <th>20000102</th>\n",
       "      <td>55.0</td>\n",
       "      <td>33</td>\n",
       "      <td>74.0</td>\n",
       "      <td>12</td>\n",
       "      <td>0</td>\n",
       "      <td>-1.0</td>\n",
       "    </tr>\n",
       "    <tr>\n",
       "      <th>20000103</th>\n",
       "      <td>74.0</td>\n",
       "      <td>49</td>\n",
       "      <td>89.0</td>\n",
       "      <td>0</td>\n",
       "      <td>124</td>\n",
       "      <td>172.0</td>\n",
       "    </tr>\n",
       "    <tr>\n",
       "      <th>20000104</th>\n",
       "      <td>46.0</td>\n",
       "      <td>22</td>\n",
       "      <td>75.0</td>\n",
       "      <td>4</td>\n",
       "      <td>13</td>\n",
       "      <td>11.0</td>\n",
       "    </tr>\n",
       "    <tr>\n",
       "      <th>20000105</th>\n",
       "      <td>41.0</td>\n",
       "      <td>14</td>\n",
       "      <td>56.0</td>\n",
       "      <td>56</td>\n",
       "      <td>0</td>\n",
       "      <td>0.0</td>\n",
       "    </tr>\n",
       "  </tbody>\n",
       "</table>\n",
       "</div>"
      ],
      "text/plain": [
       "                TG     TN    TX     SQ     DR     RH\n",
       "STN YYYYMMDD                                        \n",
       "270 20000101  42.0     -4  79.0     49     15   11.0\n",
       "    20000102  55.0     33  74.0     12      0   -1.0\n",
       "    20000103  74.0     49  89.0      0    124  172.0\n",
       "    20000104  46.0     22  75.0      4     13   11.0\n",
       "    20000105  41.0     14  56.0     56      0    0.0"
      ]
     },
     "execution_count": 1,
     "metadata": {},
     "output_type": "execute_result"
    }
   ],
   "source": [
    "#data we need later on\n",
    "\n",
    "import pandas as pd\n",
    "\n",
    "knmi = pd.read_csv('data/knmi.tsv', low_memory=False, sep=',')\n",
    "knmi = knmi.loc[knmi.STN == 270]\n",
    "knmi.set_index(['STN', 'YYYYMMDD'], inplace = True)\n",
    "knmi[['TG', 'TX', 'RH']] = knmi[['TG', 'TX', 'RH']].astype(float)\n",
    "\n",
    "knmi.head()"
   ]
  },
  {
   "cell_type": "markdown",
   "id": "creative-cardiff",
   "metadata": {},
   "source": [
    "## Python Builtin functions\n",
    "\n",
    "Builtins are powerful out-of-the-box Python functions. The advantage of these functions is that you don't need to know the implementation details, but knowing how to call them is enough. First, let's take a look at some of the most interesting built-in features. A nice overview can be found at https://docs.python.org/3/library/functions.html\n",
    "\n",
    "We already know a lot of those builtin functions, such as `set()`, and `enumerate()`. \n",
    "\n",
    "In this notebook we look at some useful builtin functions that you can use in combination with iterable objects, such as a list or the pandas dataframe. These are:\n",
    "\n",
    "- higher order functions: `map()`, `filter()` and `reduce()`\n",
    "- the `zip()` function\n",
    "- sort function `sorted()` compared to `sort()`\n",
    "\n",
    "Furthermore we will look at the lambda functions because they are often used in combination with iterable operations."
   ]
  },
  {
   "cell_type": "markdown",
   "id": "proof-convergence",
   "metadata": {},
   "source": [
    "## `lambda` functions\n",
    "\n",
    "In the Python programming language, the anonymous function is a function also known as a lambda function. Lamda functions are 1-line functions with **no name** and **without the keyword `def`**. For that reason they are called **anonymous functions** (no name), also called lambda function. the syntax is as follows: \n",
    "\n",
    "    lambda arguments : expression\n",
    "\n",
    "An example is below. The argument is x, the expression is x*x\n"
   ]
  },
  {
   "cell_type": "code",
   "execution_count": 2,
   "id": "impossible-immune",
   "metadata": {},
   "outputs": [
    {
     "data": {
      "text/plain": [
       "<function __main__.<lambda>(x)>"
      ]
     },
     "execution_count": 2,
     "metadata": {},
     "output_type": "execute_result"
    }
   ],
   "source": [
    "lambda x: x*x"
   ]
  },
  {
   "cell_type": "markdown",
   "id": "molecular-clearing",
   "metadata": {},
   "source": [
    "By assinging the lambda function to a variable I can call it."
   ]
  },
  {
   "cell_type": "code",
   "execution_count": 3,
   "id": "fatty-notebook",
   "metadata": {},
   "outputs": [
    {
     "name": "stdout",
     "output_type": "stream",
     "text": [
      "16\n"
     ]
    }
   ],
   "source": [
    "square = lambda x: x*x\n",
    "print(square(4))"
   ]
  },
  {
   "cell_type": "markdown",
   "id": "hungarian-bicycle",
   "metadata": {},
   "source": [
    "So this does exactly the same as the non-anonymous function with name square and keyword def"
   ]
  },
  {
   "cell_type": "code",
   "execution_count": 4,
   "id": "actual-grammar",
   "metadata": {},
   "outputs": [
    {
     "name": "stdout",
     "output_type": "stream",
     "text": [
      "16\n"
     ]
    }
   ],
   "source": [
    "def square(x):\n",
    "    return x*x\n",
    "print(square(4))"
   ]
  },
  {
   "cell_type": "markdown",
   "id": "scenic-finland",
   "metadata": {},
   "source": [
    "Like regular functions, lambda functions can also take multiple arguments as input. In the example above, the lambda function takes the argument x as input argument and the lambda function returns the result of the expression x*x. In case of multiple input arguments it looks like this:"
   ]
  },
  {
   "cell_type": "code",
   "execution_count": 5,
   "id": "proved-interference",
   "metadata": {},
   "outputs": [
    {
     "name": "stdout",
     "output_type": "stream",
     "text": [
      "12\n"
     ]
    }
   ],
   "source": [
    "ml = lambda x,y: x*y\n",
    "print(ml(3,4))"
   ]
  },
  {
   "cell_type": "markdown",
   "id": "expensive-adolescent",
   "metadata": {},
   "source": [
    "\n",
    "So `x` and `y` are the **input arguments** (these are before the `:`) and `x*y` is the **expression** (this is after the `:`) "
   ]
  },
  {
   "cell_type": "markdown",
   "id": "stuffed-hybrid",
   "metadata": {},
   "source": [
    "The expression can contain everything we can normally do with python code"
   ]
  },
  {
   "cell_type": "code",
   "execution_count": 6,
   "id": "lyric-geneva",
   "metadata": {},
   "outputs": [
    {
     "name": "stdout",
     "output_type": "stream",
     "text": [
      "47\n",
      "47\n"
     ]
    }
   ],
   "source": [
    "f = lambda a,b: a if (a > b) else b\n",
    "print(f(47,11))\n",
    "print(f(11,47))"
   ]
  },
  {
   "cell_type": "markdown",
   "id": "future-algorithm",
   "metadata": {},
   "source": [
    "Why is this useful? I could just use the regular function, right? That is indeed possible. But for small operations it is often useful to use an anonymous lambda function. Especially if I want to use a repeating operation on an iterable object, such as a pandas column. Or when I want to use a repeating function to make a listcomprehension. Lambda functions are also very often used in combination with higher order functions `map()`, `filter()` and `reduce()`"
   ]
  },
  {
   "cell_type": "markdown",
   "id": "foreign-diameter",
   "metadata": {},
   "source": [
    "## Higher order functions: `map()`, `filter()` and `reduce()`\n",
    "\n",
    "`map()`, `filter()` and `reduce()` are builtin functions of Python. They are kind of higher order functions. These functions **take another function as a parameter along with an itterable object** (a sequence, a list, a dict, or the like) and return an output after applying the function to each item in the iterable object. These functions enable the functional programming aspect of Python. The syntax is as follows:\n",
    "\n",
    "    map(function, iterable_object)\n",
    "\n",
    "The function parameter is a function that defines an expression (operation) that is applied to each item in the iterable_object. Functions can again be built-in functions, self-defined functions or lambda functions. Below you can see two examples: \n",
    "\n",
    "### `map()` examples"
   ]
  },
  {
   "cell_type": "code",
   "execution_count": 7,
   "id": "addressed-disabled",
   "metadata": {},
   "outputs": [
    {
     "name": "stdout",
     "output_type": "stream",
     "text": [
      "<map object at 0x11d9b1c70>\n",
      "(1, 4, 9, 16)\n"
     ]
    }
   ],
   "source": [
    "def newfunc(a):\n",
    "    return a*a\n",
    "x = map(newfunc, (1,2,3,4))  \n",
    "print(x)         #x is the map object\n",
    "print(tuple(x))  #the tuple contains the converted by the map function values "
   ]
  },
  {
   "cell_type": "code",
   "execution_count": 8,
   "id": "eastern-airline",
   "metadata": {},
   "outputs": [
    {
     "data": {
      "text/plain": [
       "'AGGTTTCCA'"
      ]
     },
     "execution_count": 8,
     "metadata": {},
     "output_type": "execute_result"
    }
   ],
   "source": [
    "def complement_map(seq):\n",
    "    complements = {'A': 'T', 'C': 'G', 'G': 'C', 'T': 'A'}\n",
    "    return ''.join(list(map(lambda x: complements[x], seq))) \n",
    "\n",
    "complement_map('TCCAAAGGT')"
   ]
  },
  {
   "cell_type": "code",
   "execution_count": 28,
   "id": "junior-thirty",
   "metadata": {},
   "outputs": [
    {
     "name": "stdout",
     "output_type": "stream",
     "text": [
      "                TG     TN    TX     SQ     DR   RH  TG_mapped  TG_lambda\n",
      "STN YYYYMMDD                                                            \n",
      "270 20120204 -10.5   -168 -58.0     71      0  0.0      -1.05      -1.05\n",
      "    20100126  -9.2   -127 -43.0     75      0  0.0      -0.92      -0.92 \n",
      "\n",
      "                TG     TN    TX     SQ     DR   RH  TG_mapped  TG_lambda\n",
      "STN YYYYMMDD                                                            \n",
      "270 20120204 -10.5   -168 -58.0     71      0  0.0      -1.05      -1.05\n",
      "    20100126  -9.2   -127 -43.0     75      0  0.0      -0.92      -0.92 \n",
      "\n",
      "                TG     TN    TX     SQ     DR   RH  TG_mapped  TG_lambda\n",
      "STN YYYYMMDD                                                            \n",
      "270 20120204 -10.5   -168 -58.0     71      0  0.0      -1.05      -1.05\n",
      "    20100126  -9.2   -127 -43.0     75      0  0.0      -0.92      -0.92 \n",
      "\n",
      "                TG     TN    TX     SQ     DR   RH  TG_mapped  TG_lambda\n",
      "STN YYYYMMDD                                                            \n",
      "270 20120204 -1.05   -168 -58.0     71      0  0.0      -1.05      -1.05\n",
      "    20100126 -0.92   -127 -43.0     75      0  0.0      -0.92      -0.92 \n",
      "\n"
     ]
    }
   ],
   "source": [
    "def deci(t):\n",
    "    return t/10\n",
    "\n",
    "#examples with new columns\n",
    "print(knmi.head(2), '\\n')\n",
    "knmi['TG_mapped'] = knmi.TG.map(deci)\n",
    "print(knmi.head(2), '\\n')\n",
    "knmi['TG_lambda'] = knmi.TG.map(lambda x:x/10)\n",
    "print(knmi.head(2), '\\n')\n",
    "#examples with adjusted column\n",
    "knmi.TG = knmi.TG.map(lambda x:x/10)\n",
    "print(knmi.head(2), '\\n')"
   ]
  },
  {
   "cell_type": "markdown",
   "id": "brief-function",
   "metadata": {},
   "source": [
    "`map()` can only be used for an array (pandas.series) \n",
    "if we want to apply the expression on the entire dataframe we should use `apply()` or `aaplymap()`"
   ]
  },
  {
   "cell_type": "code",
   "execution_count": 33,
   "id": "quick-blink",
   "metadata": {},
   "outputs": [
    {
     "name": "stdout",
     "output_type": "stream",
     "text": [
      "                   TG                                                 TN  \\\n",
      "STN YYYYMMDD                                                               \n",
      "270 20120204 -10500.0   -168 -168 -168 -168 -168 -168 -168 -168 -168 ...   \n",
      "    20100126  -9200.0   -127 -127 -127 -127 -127 -127 -127 -127 -127 ...   \n",
      "\n",
      "                   TX                                                 SQ  \\\n",
      "STN YYYYMMDD                                                               \n",
      "270 20120204 -58000.0     71   71   71   71   71   71   71   71   71 ...   \n",
      "    20100126 -43000.0     75   75   75   75   75   75   75   75   75 ...   \n",
      "\n",
      "                                                             DR   RH  \\\n",
      "STN YYYYMMDD                                                           \n",
      "270 20120204      0    0    0    0    0    0    0    0    0 ...  0.0   \n",
      "    20100126      0    0    0    0    0    0    0    0    0 ...  0.0   \n",
      "\n",
      "              TG_mapped  TG_lambda  \n",
      "STN YYYYMMDD                        \n",
      "270 20120204    -1050.0    -1050.0  \n",
      "    20100126     -920.0     -920.0   \n",
      "\n"
     ]
    }
   ],
   "source": [
    "knmi = knmi.applymap(lambda x:x*10)\n",
    "print(knmi.head(2), '\\n')"
   ]
  },
  {
   "cell_type": "markdown",
   "id": "australian-story",
   "metadata": {},
   "source": [
    "`applymap()` is only available in DataFrame and used for element-wise operation across the whole DataFrame. It has been optimized and some cases work much faster than `apply()`"
   ]
  },
  {
   "cell_type": "markdown",
   "id": "universal-aside",
   "metadata": {},
   "source": [
    "## `filter()`\n",
    "\n",
    "The filter() function is used to create an output list consisting of values for which the function returns true. Like the `map()` function, the `filter()` function also takes as arguments a function with an operation expression and an iterable object. Its syntax is as follows:\n",
    "\n",
    "    filter(function, iterable_object)"
   ]
  },
  {
   "cell_type": "code",
   "execution_count": 10,
   "id": "quick-shakespeare",
   "metadata": {},
   "outputs": [
    {
     "name": "stdout",
     "output_type": "stream",
     "text": [
      "<filter object at 0x11d9bd040>\n",
      "(3, 4)\n"
     ]
    }
   ],
   "source": [
    "def func(x):\n",
    "    if x>=3:\n",
    "        return x\n",
    "y = filter(func, (1,2,3,4))  \n",
    "print(y)\n",
    "print(tuple(y))"
   ]
  },
  {
   "cell_type": "markdown",
   "id": "colored-hammer",
   "metadata": {},
   "source": [
    "We can do the same with `lambda`"
   ]
  },
  {
   "cell_type": "code",
   "execution_count": 11,
   "id": "governing-music",
   "metadata": {},
   "outputs": [
    {
     "name": "stdout",
     "output_type": "stream",
     "text": [
      "(3, 4)\n"
     ]
    }
   ],
   "source": [
    "y = filter(lambda x: (x>=3), (1,2,3,4))\n",
    "print(tuple(y))"
   ]
  },
  {
   "cell_type": "markdown",
   "id": "pointed-latin",
   "metadata": {},
   "source": [
    "## filtering in pandas"
   ]
  },
  {
   "cell_type": "markdown",
   "id": "special-shelter",
   "metadata": {},
   "source": [
    "Attention! Pandas dataframe.`filter()` function is used to Subset rows or columns of dataframe according to labels in the specified index. Note that this routine does not filter a dataframe on its contents. The filter is applied to the labels of the index"
   ]
  },
  {
   "cell_type": "code",
   "execution_count": 12,
   "id": "incident-august",
   "metadata": {},
   "outputs": [
    {
     "data": {
      "text/html": [
       "<div>\n",
       "<style scoped>\n",
       "    .dataframe tbody tr th:only-of-type {\n",
       "        vertical-align: middle;\n",
       "    }\n",
       "\n",
       "    .dataframe tbody tr th {\n",
       "        vertical-align: top;\n",
       "    }\n",
       "\n",
       "    .dataframe thead th {\n",
       "        text-align: right;\n",
       "    }\n",
       "</style>\n",
       "<table border=\"1\" class=\"dataframe\">\n",
       "  <thead>\n",
       "    <tr style=\"text-align: right;\">\n",
       "      <th></th>\n",
       "      <th></th>\n",
       "      <th>TG</th>\n",
       "    </tr>\n",
       "    <tr>\n",
       "      <th>STN</th>\n",
       "      <th>YYYYMMDD</th>\n",
       "      <th></th>\n",
       "    </tr>\n",
       "  </thead>\n",
       "  <tbody>\n",
       "    <tr>\n",
       "      <th rowspan=\"2\" valign=\"top\">270</th>\n",
       "      <th>20000101</th>\n",
       "      <td>4.2</td>\n",
       "    </tr>\n",
       "    <tr>\n",
       "      <th>20000102</th>\n",
       "      <td>5.5</td>\n",
       "    </tr>\n",
       "  </tbody>\n",
       "</table>\n",
       "</div>"
      ],
      "text/plain": [
       "               TG\n",
       "STN YYYYMMDD     \n",
       "270 20000101  4.2\n",
       "    20000102  5.5"
      ]
     },
     "execution_count": 12,
     "metadata": {},
     "output_type": "execute_result"
    }
   ],
   "source": [
    "knmi_TG = knmi.filter(['TG']) #filter columns\n",
    "knmi_TG.head(2)"
   ]
  },
  {
   "cell_type": "code",
   "execution_count": 13,
   "id": "medical-instrument",
   "metadata": {},
   "outputs": [
    {
     "data": {
      "text/html": [
       "<div>\n",
       "<style scoped>\n",
       "    .dataframe tbody tr th:only-of-type {\n",
       "        vertical-align: middle;\n",
       "    }\n",
       "\n",
       "    .dataframe tbody tr th {\n",
       "        vertical-align: top;\n",
       "    }\n",
       "\n",
       "    .dataframe thead th {\n",
       "        text-align: right;\n",
       "    }\n",
       "</style>\n",
       "<table border=\"1\" class=\"dataframe\">\n",
       "  <thead>\n",
       "    <tr style=\"text-align: right;\">\n",
       "      <th></th>\n",
       "      <th></th>\n",
       "      <th>TG</th>\n",
       "      <th>TN</th>\n",
       "      <th>TX</th>\n",
       "      <th>TG_mapped</th>\n",
       "      <th>TG_lambda</th>\n",
       "    </tr>\n",
       "    <tr>\n",
       "      <th>STN</th>\n",
       "      <th>YYYYMMDD</th>\n",
       "      <th></th>\n",
       "      <th></th>\n",
       "      <th></th>\n",
       "      <th></th>\n",
       "      <th></th>\n",
       "    </tr>\n",
       "  </thead>\n",
       "  <tbody>\n",
       "    <tr>\n",
       "      <th rowspan=\"2\" valign=\"top\">270</th>\n",
       "      <th>20000101</th>\n",
       "      <td>4.2</td>\n",
       "      <td>-4</td>\n",
       "      <td>79.0</td>\n",
       "      <td>4.2</td>\n",
       "      <td>4.2</td>\n",
       "    </tr>\n",
       "    <tr>\n",
       "      <th>20000102</th>\n",
       "      <td>5.5</td>\n",
       "      <td>33</td>\n",
       "      <td>74.0</td>\n",
       "      <td>5.5</td>\n",
       "      <td>5.5</td>\n",
       "    </tr>\n",
       "  </tbody>\n",
       "</table>\n",
       "</div>"
      ],
      "text/plain": [
       "               TG     TN    TX  TG_mapped  TG_lambda\n",
       "STN YYYYMMDD                                        \n",
       "270 20000101  4.2     -4  79.0        4.2        4.2\n",
       "    20000102  5.5     33  74.0        5.5        5.5"
      ]
     },
     "execution_count": 13,
     "metadata": {},
     "output_type": "execute_result"
    }
   ],
   "source": [
    "knmi_re = knmi.filter(regex='T') #filter columns with a T in its name\n",
    "knmi_re.head(2)"
   ]
  },
  {
   "cell_type": "code",
   "execution_count": 14,
   "id": "verified-municipality",
   "metadata": {},
   "outputs": [],
   "source": [
    "knmi_dd = knmi.filter(regex='20000101', axis = 0) #filter on rows containing date '20000101'"
   ]
  },
  {
   "cell_type": "code",
   "execution_count": 15,
   "id": "persistent-reality",
   "metadata": {},
   "outputs": [
    {
     "data": {
      "text/html": [
       "<div>\n",
       "<style scoped>\n",
       "    .dataframe tbody tr th:only-of-type {\n",
       "        vertical-align: middle;\n",
       "    }\n",
       "\n",
       "    .dataframe tbody tr th {\n",
       "        vertical-align: top;\n",
       "    }\n",
       "\n",
       "    .dataframe thead th {\n",
       "        text-align: right;\n",
       "    }\n",
       "</style>\n",
       "<table border=\"1\" class=\"dataframe\">\n",
       "  <thead>\n",
       "    <tr style=\"text-align: right;\">\n",
       "      <th></th>\n",
       "      <th></th>\n",
       "      <th>TG</th>\n",
       "      <th>TN</th>\n",
       "      <th>TX</th>\n",
       "      <th>SQ</th>\n",
       "      <th>DR</th>\n",
       "      <th>RH</th>\n",
       "      <th>TG_mapped</th>\n",
       "      <th>TG_lambda</th>\n",
       "    </tr>\n",
       "    <tr>\n",
       "      <th>STN</th>\n",
       "      <th>YYYYMMDD</th>\n",
       "      <th></th>\n",
       "      <th></th>\n",
       "      <th></th>\n",
       "      <th></th>\n",
       "      <th></th>\n",
       "      <th></th>\n",
       "      <th></th>\n",
       "      <th></th>\n",
       "    </tr>\n",
       "  </thead>\n",
       "  <tbody>\n",
       "    <tr>\n",
       "      <th>270</th>\n",
       "      <th>20000101</th>\n",
       "      <td>4.2</td>\n",
       "      <td>-4</td>\n",
       "      <td>79.0</td>\n",
       "      <td>49</td>\n",
       "      <td>15</td>\n",
       "      <td>11.0</td>\n",
       "      <td>4.2</td>\n",
       "      <td>4.2</td>\n",
       "    </tr>\n",
       "  </tbody>\n",
       "</table>\n",
       "</div>"
      ],
      "text/plain": [
       "               TG     TN    TX     SQ     DR    RH  TG_mapped  TG_lambda\n",
       "STN YYYYMMDD                                                            \n",
       "270 20000101  4.2     -4  79.0     49     15  11.0        4.2        4.2"
      ]
     },
     "execution_count": 15,
     "metadata": {},
     "output_type": "execute_result"
    }
   ],
   "source": [
    "knmi_dd"
   ]
  },
  {
   "cell_type": "markdown",
   "id": "attempted-inventory",
   "metadata": {},
   "source": [
    "If we want to subset a dataframe on content we should use just the expression in combination with a slice. The expression will return True and False for each value and selects all True returns for the subset\n",
    "\n",
    "    df = df[df.column expression]\n",
    " "
   ]
  },
  {
   "cell_type": "code",
   "execution_count": 16,
   "id": "computational-department",
   "metadata": {},
   "outputs": [
    {
     "name": "stdout",
     "output_type": "stream",
     "text": [
      "6940\n",
      "360\n"
     ]
    },
    {
     "data": {
      "text/html": [
       "<div>\n",
       "<style scoped>\n",
       "    .dataframe tbody tr th:only-of-type {\n",
       "        vertical-align: middle;\n",
       "    }\n",
       "\n",
       "    .dataframe tbody tr th {\n",
       "        vertical-align: top;\n",
       "    }\n",
       "\n",
       "    .dataframe thead th {\n",
       "        text-align: right;\n",
       "    }\n",
       "</style>\n",
       "<table border=\"1\" class=\"dataframe\">\n",
       "  <thead>\n",
       "    <tr style=\"text-align: right;\">\n",
       "      <th></th>\n",
       "      <th></th>\n",
       "      <th>TG</th>\n",
       "      <th>TN</th>\n",
       "      <th>TX</th>\n",
       "      <th>SQ</th>\n",
       "      <th>DR</th>\n",
       "      <th>RH</th>\n",
       "      <th>TG_mapped</th>\n",
       "      <th>TG_lambda</th>\n",
       "    </tr>\n",
       "    <tr>\n",
       "      <th>STN</th>\n",
       "      <th>YYYYMMDD</th>\n",
       "      <th></th>\n",
       "      <th></th>\n",
       "      <th></th>\n",
       "      <th></th>\n",
       "      <th></th>\n",
       "      <th></th>\n",
       "      <th></th>\n",
       "      <th></th>\n",
       "    </tr>\n",
       "  </thead>\n",
       "  <tbody>\n",
       "    <tr>\n",
       "      <th rowspan=\"2\" valign=\"top\">270</th>\n",
       "      <th>20000123</th>\n",
       "      <td>-0.4</td>\n",
       "      <td>-52</td>\n",
       "      <td>32.0</td>\n",
       "      <td>49</td>\n",
       "      <td>20</td>\n",
       "      <td>7.0</td>\n",
       "      <td>-0.4</td>\n",
       "      <td>-0.4</td>\n",
       "    </tr>\n",
       "    <tr>\n",
       "      <th>20000124</th>\n",
       "      <td>-1.6</td>\n",
       "      <td>-53</td>\n",
       "      <td>7.0</td>\n",
       "      <td>14</td>\n",
       "      <td>0</td>\n",
       "      <td>0.0</td>\n",
       "      <td>-1.6</td>\n",
       "      <td>-1.6</td>\n",
       "    </tr>\n",
       "  </tbody>\n",
       "</table>\n",
       "</div>"
      ],
      "text/plain": [
       "               TG     TN    TX     SQ     DR   RH  TG_mapped  TG_lambda\n",
       "STN YYYYMMDD                                                           \n",
       "270 20000123 -0.4    -52  32.0     49     20  7.0       -0.4       -0.4\n",
       "    20000124 -1.6    -53   7.0     14      0  0.0       -1.6       -1.6"
      ]
     },
     "execution_count": 16,
     "metadata": {},
     "output_type": "execute_result"
    }
   ],
   "source": [
    "print(len(knmi))\n",
    "knmi_freeze = knmi[knmi.TG < 0 ]\n",
    "print(len(knmi_freeze))\n",
    "knmi_freeze.head(2)"
   ]
  },
  {
   "cell_type": "markdown",
   "id": "genetic-electric",
   "metadata": {},
   "source": [
    "## Using higher order functions in conjunction: `map(func, filter(func, iter))`\n",
    "\n",
    "When you do this, the inner functions are solved first and then the outer functions. The output of the inner function is then the input of the outer function\n",
    "\n",
    "Let's first try passing the filter() function as a parameter to the map() function.\n",
    "\n",
    "The code below first checks if the condition (x > = 3) is True for the iterables. Then that output (3, 4) is used as an iterable object as a parameter for the map() function. Because it uses the lambda function `x:x+x` input 3 -> 6 and 4 "
   ]
  },
  {
   "cell_type": "code",
   "execution_count": 17,
   "id": "parliamentary-smith",
   "metadata": {},
   "outputs": [
    {
     "name": "stdout",
     "output_type": "stream",
     "text": [
      "(6, 8)\n"
     ]
    }
   ],
   "source": [
    "# map(function, iterable_object)\n",
    "# functio = lambda x:x+x\n",
    "# iterable_object = outcome of expression filter(lambda x: (x>=3), (1,2,3,4))\n",
    "c = map(lambda x:x+x,filter(lambda x: (x>=3), (1,2,3,4)))\n",
    "print(tuple(c))"
   ]
  },
  {
   "cell_type": "markdown",
   "id": "labeled-green",
   "metadata": {},
   "source": [
    "## The `zip()` function\n",
    "The zip() function returns a zip object, an iterator of tuples where the first item in an iterator is linked to the first item of a second operator, then the second item in each iterator is linked together, then the third and so on. If the iterators have different lengths, the iterator with the fewest items decides the length of the new iterator. The syntax is as follows:\n",
    "\n",
    "    zip(iterator1, iterator2, iterator3 ...) "
   ]
  },
  {
   "cell_type": "code",
   "execution_count": 18,
   "id": "registered-adolescent",
   "metadata": {},
   "outputs": [
    {
     "name": "stdout",
     "output_type": "stream",
     "text": [
      "{'a': 'Ala', 'c': 'Cys', 'd': 'Asp', 'e': 'Glu', 'f': 'Phe'}\n"
     ]
    }
   ],
   "source": [
    "oneLetters = ['a','c','d','e','f']\n",
    "threeLetters = ['Ala','Cys','Asp','Glu','Phe']\n",
    "combined = zip(oneLetters, threeLetters)\n",
    "print(dict(combined))"
   ]
  },
  {
   "cell_type": "markdown",
   "id": "incomplete-biodiversity",
   "metadata": {},
   "source": [
    "This might be handy to create structures for plotting\n",
    "\n",
    "    x = [ (m, y) for m in months for y in years ] # this creates [ (\"jan\", \"2019\"), (\"jan\", \"2020\"),...]\n",
    "    counts = sum(zip(df[2019].tolist(), df[2020].tolist()), ()) \n",
    "    source = ColumnDataSource(data=dict(x=x, counts=counts))\n"
   ]
  },
  {
   "cell_type": "markdown",
   "id": "funky-coach",
   "metadata": {},
   "source": [
    "## python `sorted()` and `sort()`\n",
    "\n",
    "Sorting a sequence is very easy in Python using the built-in method `sorted()`. `sorted()` sorts any sequence and always returns a list of the elements in a sorted manner, without modifying the original sequence. Syntax:\n",
    "\n",
    "      sorted(iterable_object, key, reverse)\n",
    "\n",
    "where key and reverse are optional. A key indicates which sort basis should be chosen, reverse indicates whether descending should be sorted. (default ascending)"
   ]
  },
  {
   "cell_type": "code",
   "execution_count": 19,
   "id": "valuable-distinction",
   "metadata": {},
   "outputs": [
    {
     "name": "stdout",
     "output_type": "stream",
     "text": [
      "Sorted List returned :\n",
      "[1, 2, 3, 4, 6, 7, 8]\n",
      "\n",
      "Reverse sort :\n",
      "[8, 7, 6, 4, 3, 2, 1]\n",
      "\n",
      "Original list not modified :\n",
      "[2, 8, 1, 4, 6, 3, 7]\n"
     ]
    }
   ],
   "source": [
    "x = [2, 8, 1, 4, 6, 3, 7] \n",
    "  \n",
    "print(\"Sorted List returned :\")\n",
    "print(sorted(x))\n",
    "  \n",
    "print(\"\\nReverse sort :\")\n",
    "print(sorted(x, reverse = True))\n",
    "  \n",
    "print(\"\\nOriginal list not modified :\") \n",
    "print(x) "
   ]
  },
  {
   "cell_type": "markdown",
   "id": "postal-friendship",
   "metadata": {},
   "source": [
    "one can parse a key argument to indicate the kind of sort"
   ]
  },
  {
   "cell_type": "code",
   "execution_count": 20,
   "id": "functional-fruit",
   "metadata": {},
   "outputs": [
    {
     "name": "stdout",
     "output_type": "stream",
     "text": [
      "Normal sort : ['aaa', 'b', 'cccc', 'dd']\n",
      "Sort with len : ['b', 'dd', 'aaa', 'cccc']\n"
     ]
    }
   ],
   "source": [
    "L = [\"cccc\", \"b\", \"dd\", \"aaa\"] \n",
    "  \n",
    "print(\"Normal sort :\", sorted(L)) \n",
    "print(\"Sort with len :\", sorted(L, key = len))"
   ]
  },
  {
   "cell_type": "markdown",
   "id": "identified-gravity",
   "metadata": {},
   "source": [
    "In the above case the len function is used as a key, but this can also be a self defined function. The function below sorts the amino acid by weight "
   ]
  },
  {
   "cell_type": "code",
   "execution_count": 21,
   "id": "handy-serial",
   "metadata": {},
   "outputs": [
    {
     "name": "stdout",
     "output_type": "stream",
     "text": [
      "['Gly', 'Ala', 'pro', 'glu', 'His', 'his', 'tyr']\n"
     ]
    }
   ],
   "source": [
    "aaWeights = {'gly':75, 'ala':89, 'glu':147, 'his':155, 'pro':115, 'tyr':181}\n",
    "def aaSorter(aa):\n",
    "      return aaWeights[aa.lower()]\n",
    "l = ['Gly','Ala','pro','His','his','glu','tyr']\n",
    "print(sorted(l, key=aaSorter))"
   ]
  },
  {
   "cell_type": "markdown",
   "id": "designing-apache",
   "metadata": {},
   "source": [
    "The `sort()` function sorts a list, but then changes this list with the sorted list as well. The function sorted() returns a list and you need to assign it to a new variable if you want to use it as a variable. The difference is demonstrated below:"
   ]
  },
  {
   "cell_type": "code",
   "execution_count": 22,
   "id": "light-electron",
   "metadata": {},
   "outputs": [
    {
     "name": "stdout",
     "output_type": "stream",
     "text": [
      "['squash', 'pea', 'carrot', 'potato']\n",
      "['carrot', 'pea', 'potato', 'squash']\n",
      "['squash', 'pea', 'carrot', 'potato']\n",
      "['carrot', 'pea', 'potato', 'squash']\n"
     ]
    }
   ],
   "source": [
    "vegetables = ['squash', 'pea', 'carrot', 'potato']\n",
    "print(vegetables)\n",
    "new_list = sorted(vegetables)\n",
    "print(new_list)\n",
    "print(vegetables)\n",
    "vegetables.sort()\n",
    "print(vegetables)"
   ]
  },
  {
   "cell_type": "markdown",
   "id": "simple-bench",
   "metadata": {},
   "source": [
    "## numpy `sort()` and `argsort()`\n",
    "\n",
    "\n",
    "There are many kind of sorting algoritms. `np.sort()` and `np.argsort()` supports the fastest of these sorting algorithms, like ‘mergesort’, ‘quicksort’, ‘heapsort’ and ‘stable’. The `sort()` function is inplace, the `argsort()` function is an indirect sort. \n",
    "\n",
    "See also https://en.wikipedia.org/wiki/Sorting_algorithm for an overview of sorting algorithms. a visual representation is https://www.youtube.com/watch?v=kPRA0W1kECg and a nice explanation is https://www.youtube.com/watch?v=kgBjXUE_Nwc\n",
    "\n"
   ]
  },
  {
   "cell_type": "code",
   "execution_count": 23,
   "id": "capable-option",
   "metadata": {},
   "outputs": [
    {
     "name": "stdout",
     "output_type": "stream",
     "text": [
      "\n",
      "unsorted\n",
      "[[-0.80899401 -0.48515855 -0.07336271]\n",
      " [ 0.27898235 -0.08632479  1.24483513]]\n",
      "\n",
      "sorted on row\n",
      "[[-0.80899401 -0.48515855 -0.07336271]\n",
      " [-0.08632479  0.27898235  1.24483513]]\n",
      "\n",
      "sorted on collumn\n",
      "[[-0.80899401 -0.48515855 -0.07336271]\n",
      " [-0.08632479  0.27898235  1.24483513]]\n"
     ]
    }
   ],
   "source": [
    "import numpy as np\n",
    "arr = np.random.randn(2,3)\n",
    "print('\\nunsorted')\n",
    "print(arr)\n",
    "print('\\nsorted on row')\n",
    "arr.sort(axis=1) #sort row\n",
    "print(arr)\n",
    "print('\\nsorted on collumn')\n",
    "arr.sort(axis=0)#sort column\n",
    "print(arr)"
   ]
  },
  {
   "cell_type": "markdown",
   "id": "through-paragraph",
   "metadata": {},
   "source": [
    "`np.argsort()` returns the indexes of the sortation"
   ]
  },
  {
   "cell_type": "code",
   "execution_count": 24,
   "id": "downtown-council",
   "metadata": {},
   "outputs": [
    {
     "name": "stdout",
     "output_type": "stream",
     "text": [
      "\n",
      "unsorted\n",
      "[ 0.61571673  0.3601718  -1.09654169  0.5332182   0.36805026]\n",
      "\n",
      "using np.argsort()\n",
      "[2 1 4 3 0]\n",
      "\n",
      " arr with indexes\n",
      "[-1.09654169  0.3601718   0.36805026  0.5332182   0.61571673]\n"
     ]
    }
   ],
   "source": [
    "arr = np.random.randn(5)\n",
    "print('\\nunsorted')\n",
    "print(arr)\n",
    "print('\\nusing np.argsort()')\n",
    "print(arr.argsort())\n",
    "print('\\n arr with indexes')\n",
    "print(arr[arr.argsort()])"
   ]
  },
  {
   "cell_type": "markdown",
   "id": "taken-leadership",
   "metadata": {},
   "source": [
    "Other sort functions are `np.searchsorted()` and `np.lexsort()`\n",
    "all these functions work in pd.Series as well. "
   ]
  },
  {
   "cell_type": "markdown",
   "id": "affecting-guarantee",
   "metadata": {},
   "source": [
    "## pandas `sort_values()` and `sort_index()`\n",
    "Pandas does not have a `sort()` method. It has the `sort_values()` method and the `sort_index()` method"
   ]
  },
  {
   "cell_type": "code",
   "execution_count": 25,
   "id": "animated-participant",
   "metadata": {},
   "outputs": [
    {
     "name": "stdout",
     "output_type": "stream",
     "text": [
      "               TG     TN    TX     SQ     DR    RH  TG_mapped  TG_lambda\n",
      "STN YYYYMMDD                                                            \n",
      "270 20000101  4.2     -4  79.0     49     15  11.0        4.2        4.2\n",
      "    20000102  5.5     33  74.0     12      0  -1.0        5.5        5.5\n",
      "                TG     TN    TX     SQ     DR   RH  TG_mapped  TG_lambda\n",
      "STN YYYYMMDD                                                            \n",
      "270 20120204 -10.5   -168 -58.0     71      0  0.0      -10.5      -10.5\n",
      "    20100126  -9.2   -127 -43.0     75      0  0.0       -9.2       -9.2\n"
     ]
    }
   ],
   "source": [
    "print(knmi.head(2))\n",
    "knmi = knmi.sort_values(by=['TG', 'TN'], ascending = True)\n",
    "print(knmi.head(2))"
   ]
  },
  {
   "cell_type": "code",
   "execution_count": null,
   "id": "veterinary-giant",
   "metadata": {},
   "outputs": [],
   "source": []
  }
 ],
 "metadata": {
  "kernelspec": {
   "display_name": "dsls",
   "language": "python",
   "name": "dsls"
  },
  "language_info": {
   "codemirror_mode": {
    "name": "ipython",
    "version": 3
   },
   "file_extension": ".py",
   "mimetype": "text/x-python",
   "name": "python",
   "nbconvert_exporter": "python",
   "pygments_lexer": "ipython3",
   "version": "3.8.2"
  }
 },
 "nbformat": 4,
 "nbformat_minor": 5
}
