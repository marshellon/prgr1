{
 "cells": [
  {
   "cell_type": "markdown",
   "metadata": {},
   "source": [
    "## Exercise pandas\n",
    "\n",
    "The TB_burden_age_sex_2019-04-23.csv for 2017 from the site https://www.who.int/tb/country/data/download/en/ can be found on the data folder. In this exercise you will open the file with `pd.read_csv()` method and do the following cleaning\n",
    "\n",
    "- drop the collumns iso2, iso3, iso_numeric. \n",
    "- rename the collumn age_group to age\n",
    "\n",
    "After that you answer the questions 0 to 4."
   ]
  },
  {
   "cell_type": "code",
   "execution_count": null,
   "metadata": {},
   "outputs": [],
   "source": [
    "# write your read function here"
   ]
  },
  {
   "cell_type": "markdown",
   "metadata": {},
   "source": [
    "### Question 0 (Example)\n",
    "\n",
    "What is the first country in your dataframe df? This function should return a Series\n"
   ]
  },
  {
   "cell_type": "code",
   "execution_count": null,
   "metadata": {},
   "outputs": [],
   "source": [
    "def answer_zero():\n",
    "\n",
    "    return df.iloc[0]\n",
    "\n",
    "answer_zero() "
   ]
  },
  {
   "cell_type": "markdown",
   "metadata": {},
   "source": [
    "### Question 1\n",
    "\n",
    "Which country has the highest estimate of TB?\n",
    "\n",
    "This function should return a the string India."
   ]
  },
  {
   "cell_type": "code",
   "execution_count": null,
   "metadata": {},
   "outputs": [],
   "source": [
    "def answer_one():\n",
    "    \n",
    "    return 0 #write your code here\n",
    "\n",
    "answer_one()"
   ]
  },
  {
   "cell_type": "markdown",
   "metadata": {},
   "source": [
    "### Question 2\n",
    "\n",
    "Which country has the smallest difference between high and low estimates?"
   ]
  },
  {
   "cell_type": "code",
   "execution_count": null,
   "metadata": {},
   "outputs": [],
   "source": [
    "def answer_two():\n",
    "    \n",
    "    return 0 #write your code here, should return American Samoa\n",
    "\n",
    "answer_two() # should return American Samoa"
   ]
  },
  {
   "cell_type": "markdown",
   "metadata": {},
   "source": [
    "### Question 3\n",
    "\n",
    "How many countries have 65plus records?"
   ]
  },
  {
   "cell_type": "code",
   "execution_count": null,
   "metadata": {},
   "outputs": [],
   "source": [
    "def answer_three(df):\n",
    "    \n",
    "    return 0 # write your code here, should return 119\n",
    "\n",
    "answer_three(df) # should return 119\n",
    "        "
   ]
  },
  {
   "cell_type": "markdown",
   "metadata": {},
   "source": [
    "### Question 4\n",
    "\n",
    "Select the females and exclude the 'age = all' records. What are the top 5 countries that have the two most highest 'best estimates'? \n"
   ]
  },
  {
   "cell_type": "code",
   "execution_count": null,
   "metadata": {},
   "outputs": [],
   "source": [
    "#write your code here, should return this\n",
    "\"\"\"\n",
    "India          1084000\n",
    "Indonesia       393000\n",
    "China           296000\n",
    "Pakistan        252000\n",
    "Philippines     173000\n",
    "\"\"\""
   ]
  }
 ],
 "metadata": {
  "kernelspec": {
   "display_name": "Python 3",
   "language": "python",
   "name": "python3"
  },
  "language_info": {
   "codemirror_mode": {
    "name": "ipython",
    "version": 3
   },
   "file_extension": ".py",
   "mimetype": "text/x-python",
   "name": "python",
   "nbconvert_exporter": "python",
   "pygments_lexer": "ipython3",
   "version": "3.8.1"
  }
 },
 "nbformat": 4,
 "nbformat_minor": 2
}
