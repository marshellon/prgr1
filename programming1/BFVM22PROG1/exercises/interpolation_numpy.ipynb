{
 "cells": [
  {
   "cell_type": "markdown",
   "metadata": {},
   "source": [
    "# Interpolation\n",
    "\n",
    "The first algorithm students are introduced to is Linear Regression. It assumed a linear relationship between the dependent (Y) and independent variables (X). However this is rarely the case in reality. To improve linear models often higher order models like Polynomial Regression generates better results. Using Polynomial Regression on datasets with high variability however might result in over-fitting. A method to overcome the change of over-fitting is a non-linear approach known as Regression Splines. In this tutorial we will practice interpolation by means of numpy and scipy libraries and by means of an own implementation."
   ]
  },
  {
   "cell_type": "markdown",
   "metadata": {},
   "source": [
    "### Linear Interpolation\n",
    "\n",
    "Linear Interpolation is a method of curve fitting using linear polynomials to construct new data points within the range of a discrete set of known data points. Let us look to a very simple example"
   ]
  },
  {
   "cell_type": "code",
   "execution_count": 1,
   "metadata": {},
   "outputs": [
    {
     "data": {
      "image/png": "[encoded data removed]",
      "text/plain": [
       "<Figure size 432x288 with 1 Axes>"
      ]
     },
     "metadata": {
      "needs_background": "light"
     },
     "output_type": "display_data"
    }
   ],
   "source": [
    "import numpy as np\n",
    "import matplotlib.pyplot as plt\n",
    "%matplotlib inline\n",
    " \n",
    "#original data points xdata = {x0,x1}, ydata = {y0, y1} f = function that describes the relation\n",
    "xdata = np.array([1, 3])\n",
    "f = 1 + 2*xdata\n",
    "ydata = np.array(f) # linear function y = 1 + 2x (remember I can put in values but also expressions resulting values)\n",
    "\n",
    "\n",
    "xs = [2]# to be interpolated data point\n",
    "ys = np.interp(xs, xdata, ydata) #based on previous xdata, ydata relation estimate ys for xs\n",
    "\n",
    "\n",
    "plt.title('Linear interpolation');\n",
    "plt.plot(xdata, ydata, 'or', label='data') #plot the original values with a red circle\n",
    "plt.plot(xs, ys, '-xb', label='interpolation') #plot the interpolated values with a blue cross \n",
    "plt.grid(True);\n",
    "plt.xlabel('$x$'); plt.ylabel('$y$'); plt.legend(); \n",
    "plt.show()\n"
   ]
  },
  {
   "cell_type": "markdown",
   "metadata": {},
   "source": [
    "We can apply the same principle for other polynomial relations, for instance a sinus function"
   ]
  },
  {
   "cell_type": "code",
   "execution_count": 2,
   "metadata": {},
   "outputs": [
    {
     "data": {
      "image/png": "[encoded data removed]",
      "text/plain": [
       "<Figure size 432x288 with 1 Axes>"
      ]
     },
     "metadata": {
      "needs_background": "light"
     },
     "output_type": "display_data"
    }
   ],
   "source": [
    "#original data points using linspace to generate 10 datapoints sequence\n",
    "xdata = np.linspace(0, 2*np.pi, 10)\n",
    "ydata = np.sin(xdata) # use sinus function to calculate the sinus ydata for xdata\n",
    "\n",
    "# to be interpolated data point\n",
    "xs = np.linspace(0, 2*np.pi, 50) #create 50 datapoints sequence\n",
    "ys = np.interp(xs, xdata, ydata) #based on previous xdata, ydata relation estimate ys for xs\n",
    "\n",
    "plt.title('Linear interpolation');\n",
    "plt.plot(xdata, ydata, 'or', label='data') # use round red 'or' for original data\n",
    "plt.plot(xs, ys, ':b', label='interpolation') # use ....for interpolated data\n",
    "plt.grid(True); plt.axhline(y=0.0, color='k', lw=0.5); plt.axvline(x=0.0, color='k', lw=0.5)\n",
    "plt.xlabel('$x$'); plt.ylabel('$y$'); plt.legend(); \n",
    "plt.show()\n"
   ]
  },
  {
   "cell_type": "markdown",
   "metadata": {},
   "source": [
    "As you can see the interpolation line is not very smooth. It uses a simple linear model to interpolate. The scipy module has more interpolation options. Next to the linear option `interpolate.interp1d(xdata, ydata, kind='linear')` in included the `interpolate.interp1d(xdata, ydata, kind='nearest')` option and the `interpolate.lagrange(xdata, ydata)` option and a few more. "
   ]
  },
  {
   "cell_type": "code",
   "execution_count": 3,
   "metadata": {},
   "outputs": [],
   "source": [
    "# algorithm\n",
    "from scipy import interpolate\n",
    "#f = interpolate.<method>(xdata, ydata, <options>)\n",
    "#xs = [] #some sequence of x values\n",
    "#ys = f(xs)"
   ]
  },
  {
   "cell_type": "markdown",
   "metadata": {},
   "source": [
    "### Exercise 1\n",
    "\n",
    "Find the proper implementation of interpolate method to generate the following figure. First use the script above and replace the `ys = np.interp(xs, xdata, ydata)` line with the implementation of the linear scipy interpolation method. Then try some other interpolation methods. You can use scipy methods for this exercise or your own methods in case you have written a method in the data science class earlier.\n",
    "\n",
    "<img src=\"../images/smooth.png\" alt=\"smooth interpolation\" width=\"500\" height=\"500\" align = \"left\">"
   ]
  },
  {
   "cell_type": "markdown",
   "metadata": {},
   "source": [
    "### Exercise 2: Implementing Newton's interpolation model\n",
    "\n",
    "\n",
    "<img src=\"../images/newton.jpg\" alt=\"newton\" width=\"500\" height=\"500\" align = \"center\">\n",
    "\n",
    "Supose we have a vector $x [0,1,2,3]$ and a vector $y [1,4,9,16]$\n",
    "We can use the newton's interpolated polynomial algorithm to define the polynomial. \n",
    "The algorithm is as follow\n",
    "\n",
    "    1. determine the length n of the vectors\n",
    "    \n",
    "    2. create a zero matrix of length (n,n)\n",
    "    [[ 0.  0.  0.  0.]\n",
    "     [ 0.  0.  0.  0.]\n",
    "     [ 0.  0.  0.  0.]\n",
    "     [ 0.  0.  0.  0.]]  \n",
    "     \n",
    "    3. copy the y vector as the first column \n",
    "    [[ 1.  0.  0.  0.]\n",
    "     [ 4.  0.  0.  0.]\n",
    "     [ 9.  0.  0.  0.]\n",
    "     [16.  0.  0.  0.]]\n",
    "     \n",
    "    4. for the next columns use the formula \n",
    "       for row in range(column,n):\n",
    "            M[row,column] = (M[row,column-1]-M[row-1,column-1])/(x[row]-x[row-column])\n",
    "            \n",
    "    returning this        \n",
    "    [[ 1.  0.  0.  0.]\n",
    "     [ 4.  3.  0.  0.]\n",
    "     [ 9.  5.  1.  0.]\n",
    "     [16.  7.  1.  0.]]\n",
    "     \n",
    "    5. Fetch the diagonal to get the coeficients\n",
    "    [1. 3. 1. 0.]\n",
    "    \n",
    "    6. Use the coeficients in the formula\n",
    "    \n",
    "        \"\"\"f(x) = b0 + b1*(x - x[0]) + b2*(x-x[0])(x-x[1]) + b3*(x-x[0])(x-x[1])(x-x[2])\"\"\"\n",
    "        \n",
    "        for i in range(0, n):\n",
    "            y[i] = b0 +                                                 \\\n",
    "                  (b1*(xs[i]-xdata[0])) +                               \\\n",
    "                  (b2*(xs[i]-xdata[0])*(xs[i]-xdata[1])) +              \\\n",
    "                  (b3*(xs[i]-xdata[0])*(xs[i]-xdata[1])*(xs[i]-xdata[2]))\n",
    "                  \n",
    "              \n",
    "    to find the estimated y's\n",
    "   "
   ]
  },
  {
   "cell_type": "code",
   "execution_count": null,
   "metadata": {},
   "outputs": [],
   "source": [
    "#determine length of vector x, this should be 4 in the case of x = [0,1,2,3] \n",
    "#put your code here"
   ]
  },
  {
   "cell_type": "code",
   "execution_count": null,
   "metadata": {},
   "outputs": [],
   "source": [
    "#create a zero matrix of (n,n). Use numpy to do this\n",
    "#put your code here"
   ]
  },
  {
   "cell_type": "code",
   "execution_count": null,
   "metadata": {},
   "outputs": [],
   "source": [
    "#copy the y vector as the first column use \n",
    "#put your code here"
   ]
  },
  {
   "cell_type": "code",
   "execution_count": null,
   "metadata": {},
   "outputs": [],
   "source": [
    "#Fetch the diagonal to get the coeficients\n",
    "#put your code here"
   ]
  },
  {
   "cell_type": "code",
   "execution_count": null,
   "metadata": {},
   "outputs": [],
   "source": [
    "#use the coeficients to estimate y\n",
    "#put your code here"
   ]
  },
  {
   "cell_type": "markdown",
   "metadata": {},
   "source": [
    "### Exercise 3: plot your newton method"
   ]
  },
  {
   "cell_type": "code",
   "execution_count": null,
   "metadata": {},
   "outputs": [],
   "source": [
    "xdata = np.array([0,1,2,3]) \n",
    "ydata = np.array([1,4,9,16])\n",
    "\n",
    "# to be interpolated data point\n",
    "xs = np.linspace(0, 10, 100) \n",
    "ys = # put your code here\n",
    "\n",
    "plt.title('Linear interpolation');\n",
    "plt.plot(xdata, ydata, 'or', label='data') # use round red 'or' for original data\n",
    "plt.plot(xs, ys, ':b', label='interpolation') # use ....for interpolated data\n",
    "plt.grid(True); \n",
    "plt.xlabel('$x$'); plt.ylabel('$y$'); plt.legend(); \n",
    "plt.show()"
   ]
  },
  {
   "cell_type": "markdown",
   "metadata": {},
   "source": [
    "The plot should look like this \n",
    "<br></br>\n",
    "<img src=\"../images/poly.png\" alt=\"polynoom\" width=\"500\" height=\"500\" align = \"left\">"
   ]
  },
  {
   "cell_type": "markdown",
   "metadata": {},
   "source": [
    "### np.polyfit function\n",
    "\n",
    "The `np.polyfit` method is a built in method that fits the data to a specific order function. It returns the Polynomial coefficients, highest power first. "
   ]
  },
  {
   "cell_type": "code",
   "execution_count": null,
   "metadata": {},
   "outputs": [],
   "source": [
    "weights = np.polyfit(xdata, ydata, 2) # returns x^2 + 2x + 1\n",
    "print(weights)"
   ]
  },
  {
   "cell_type": "markdown",
   "metadata": {},
   "source": [
    "### Exercise 4: plot with polyfit function\n",
    "Plot data and fitted line with 2nd order and third order function"
   ]
  },
  {
   "cell_type": "markdown",
   "metadata": {},
   "source": [
    "### Exercise 5: Make it robuust code\n",
    "\n",
    "The code you wrote above is just pieces of code junk. Can you think of a script that does not have repeated parts and maybe even a generic method for interpolation "
   ]
  },
  {
   "cell_type": "markdown",
   "metadata": {},
   "source": [
    "More to read:\n",
    "\n",
    "https://mmas.github.io/interpolation-scipy <br></br>\n",
    "https://www.analyticsvidhya.com/blog/2018/03/introduction-regression-splines-python-codes/"
   ]
  }
 ],
 "metadata": {
  "kernelspec": {
   "display_name": "Python 3",
   "language": "python",
   "name": "python3"
  },
  "language_info": {
   "codemirror_mode": {
    "name": "ipython",
    "version": 3
   },
   "file_extension": ".py",
   "mimetype": "text/x-python",
   "name": "python",
   "nbconvert_exporter": "python",
   "pygments_lexer": "ipython3",
   "version": "3.8.1"
  }
 },
 "nbformat": 4,
 "nbformat_minor": 1
}
